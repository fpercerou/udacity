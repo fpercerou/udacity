{
 "cells": [
  {
   "cell_type": "markdown",
   "metadata": {
    "colab_type": "text",
    "id": "4embtkV0pNxM"
   },
   "source": [
    "Deep Learning\n",
    "=============\n",
    "\n",
    "Assignment 4\n",
    "------------\n",
    "\n",
    "Previously in `2_fullyconnected.ipynb` and `3_regularization.ipynb`, we trained fully connected networks to classify [notMNIST](http://yaroslavvb.blogspot.com/2011/09/notmnist-dataset.html) characters.\n",
    "\n",
    "The goal of this assignment is make the neural network convolutional."
   ]
  },
  {
   "cell_type": "code",
   "execution_count": 1,
   "metadata": {
    "ExecuteTime": {
     "end_time": "2018-09-10T11:25:12.983008Z",
     "start_time": "2018-09-10T11:25:11.836828Z"
    },
    "cellView": "both",
    "colab": {
     "autoexec": {
      "startup": false,
      "wait_interval": 0
     }
    },
    "colab_type": "code",
    "id": "tm2CQN_Cpwj0"
   },
   "outputs": [
    {
     "name": "stderr",
     "output_type": "stream",
     "text": [
      "/home/florian/anaconda3/lib/python3.6/site-packages/h5py/__init__.py:36: FutureWarning: Conversion of the second argument of issubdtype from `float` to `np.floating` is deprecated. In future, it will be treated as `np.float64 == np.dtype(float).type`.\n",
      "  from ._conv import register_converters as _register_converters\n"
     ]
    }
   ],
   "source": [
    "import matplotlib.pyplot as plt\n",
    "# Config the matplotlib backend as plotting inline in IPython\n",
    "%matplotlib inline\n",
    "from one_layer_covnet import OneLayerCovnet\n",
    "from one_layer_fully_connected import OneLayerFullyConnected\n",
    "from pooling import Pooling\n",
    "from dropout import Dropout\n",
    "from covnet import Covnet\n",
    "from six.moves import cPickle as pickle"
   ]
  },
  {
   "cell_type": "code",
   "execution_count": 2,
   "metadata": {
    "ExecuteTime": {
     "end_time": "2018-09-10T11:25:14.253775Z",
     "start_time": "2018-09-10T11:25:13.693425Z"
    },
    "cellView": "both",
    "colab": {
     "autoexec": {
      "startup": false,
      "wait_interval": 0
     },
     "output_extras": [
      {
       "item_id": 1
      }
     ]
    },
    "colab_type": "code",
    "executionInfo": {
     "elapsed": 11948,
     "status": "ok",
     "timestamp": 1446658914837,
     "user": {
      "color": "",
      "displayName": "",
      "isAnonymous": false,
      "isMe": true,
      "permissionId": "",
      "photoUrl": "",
      "sessionId": "0",
      "userId": ""
     },
     "user_tz": 480
    },
    "id": "y3-cj1bpmuxc",
    "outputId": "016b1a51-0290-4b08-efdb-8c95ffc3cd01"
   },
   "outputs": [
    {
     "name": "stdout",
     "output_type": "stream",
     "text": [
      "Training set (200000, 28, 28) (200000,)\n",
      "Validation set (10000, 28, 28) (10000,)\n",
      "Test set (10000, 28, 28) (10000,)\n"
     ]
    }
   ],
   "source": [
    "pickle_file = '../lesson_2/notMNIST.pickle'\n",
    "\n",
    "with open(pickle_file, 'rb') as f:\n",
    "  save = pickle.load(f)\n",
    "  train_dataset = save['train_dataset']\n",
    "  train_labels = save['train_labels']\n",
    "  valid_dataset = save['valid_dataset']\n",
    "  valid_labels = save['valid_labels']\n",
    "  test_dataset = save['test_dataset']\n",
    "  test_labels = save['test_labels']\n",
    "  del save  # hint to help gc free up memory\n",
    "  print('Training set', train_dataset.shape, train_labels.shape)\n",
    "  print('Validation set', valid_dataset.shape, valid_labels.shape)\n",
    "  print('Test set', test_dataset.shape, test_labels.shape)"
   ]
  },
  {
   "cell_type": "code",
   "execution_count": 3,
   "metadata": {
    "ExecuteTime": {
     "end_time": "2018-09-10T11:25:15.692556Z",
     "start_time": "2018-09-10T11:25:15.682401Z"
    }
   },
   "outputs": [],
   "source": [
    "def accuracy(predictions, labels):\n",
    "    \"\"\"\n",
    "    simple static method to compute accuracy, not specific to Covnets\n",
    "    \"\"\"\n",
    "    return (100.0 * np.sum(np.argmax(predictions, 1) == np.argmax(labels, 1))\n",
    "              / predictions.shape[0])"
   ]
  },
  {
   "cell_type": "code",
   "execution_count": 4,
   "metadata": {
    "ExecuteTime": {
     "end_time": "2018-09-10T11:25:24.319205Z",
     "start_time": "2018-09-10T11:25:24.314075Z"
    }
   },
   "outputs": [],
   "source": [
    "# first covnet layer\n",
    "cvn_layer_1 = OneLayerCovnet(height=28,\n",
    "                             width=28,\n",
    "                             depth=1,\n",
    "                             nb_labels=10,\n",
    "                             patch_height=5,\n",
    "                             patch_width=5,\n",
    "                             conv_depth=16,\n",
    "                             stride_height=2,\n",
    "                             stride_width=2,\n",
    "                             padding='SAME')\n",
    "# second covnet layer\n",
    "cvn_layer_2 = OneLayerCovnet(height=cvn_layer_1.output_height,\n",
    "                             width=cvn_layer_1.output_width,\n",
    "                             depth=cvn_layer_1.conv_depth,\n",
    "                             nb_labels=10,\n",
    "                             patch_height=5,\n",
    "                             patch_width=5,\n",
    "                             conv_depth=16,\n",
    "                             stride_height=2,\n",
    "                             stride_width=2,\n",
    "                             padding='SAME')\n",
    "# 1st fully connected\n",
    "fcn_layer_1 = OneLayerFullyConnected(input_dim=cvn_layer_2.output_height * cvn_layer_2.output_width * cvn_layer_2.conv_depth,\n",
    "                                     nb_hidden=64,\n",
    "                                     nb_labels=10)\n",
    "# 2nd fully connected\n",
    "fcn_layer_2 = OneLayerFullyConnected(input_dim=fcn_layer_1.nb_hidden,\n",
    "                                     nb_hidden=10, # = number of labels\n",
    "                                     nb_labels=10)\n"
   ]
  },
  {
   "cell_type": "code",
   "execution_count": null,
   "metadata": {
    "ExecuteTime": {
     "end_time": "2018-09-08T13:16:50.845640Z",
     "start_time": "2018-09-08T13:16:50.838870Z"
    }
   },
   "outputs": [],
   "source": [
    "one_layers = [cvn_layer_1, cvn_layer_2, fcn_layer_1, fcn_layer_2]\n",
    "cvn = Covnet(batch_size=16,\n",
    "             one_layers=one_layers)"
   ]
  },
  {
   "cell_type": "markdown",
   "metadata": {
    "colab_type": "text",
    "id": "L7aHrm6nGDMB"
   },
   "source": [
    "Reformat into a TensorFlow-friendly shape:\n",
    "- convolutions need the image data formatted as a cube (width by height by #channels)\n",
    "- labels as float 1-hot encodings."
   ]
  },
  {
   "cell_type": "code",
   "execution_count": 5,
   "metadata": {
    "ExecuteTime": {
     "end_time": "2018-09-10T11:25:28.682127Z",
     "start_time": "2018-09-10T11:25:28.374245Z"
    },
    "cellView": "both",
    "colab": {
     "autoexec": {
      "startup": false,
      "wait_interval": 0
     },
     "output_extras": [
      {
       "item_id": 1
      }
     ]
    },
    "colab_type": "code",
    "executionInfo": {
     "elapsed": 11952,
     "status": "ok",
     "timestamp": 1446658914857,
     "user": {
      "color": "",
      "displayName": "",
      "isAnonymous": false,
      "isMe": true,
      "permissionId": "",
      "photoUrl": "",
      "sessionId": "0",
      "userId": ""
     },
     "user_tz": 480
    },
    "id": "IRSyYiIIGIzS",
    "outputId": "650a208c-8359-4852-f4f5-8bf10e80ef6c"
   },
   "outputs": [
    {
     "name": "stdout",
     "output_type": "stream",
     "text": [
      "Training set (200000, 28, 28, 1) (200000, 10)\n",
      "Validation set (10000, 28, 28, 1) (10000, 10)\n",
      "Test set (10000, 28, 28, 1) (10000, 10)\n"
     ]
    }
   ],
   "source": [
    "import numpy as np\n",
    "def reformat(dataset, labels, height, width, depth, nb_labels):\n",
    "  \"\"\"\n",
    "  reformating the dataset into a matrix where each\n",
    "  row is a picture where the columns have been stacked\n",
    "  \"\"\"\n",
    "  dataset = dataset.reshape((-1, height, width, depth)).astype(np.float32)\n",
    "  labels = (np.arange(nb_labels) == labels[:,None]).astype(np.float32)\n",
    "  return dataset, labels\n",
    "\n",
    "train_dataset, train_labels = reformat(train_dataset, train_labels, cvn_layer_1.height, cvn_layer_1.width, cvn_layer_1.depth, cvn_layer_1.nb_labels)\n",
    "valid_dataset, valid_labels = reformat(valid_dataset, valid_labels, cvn_layer_1.height, cvn_layer_1.width, cvn_layer_1.depth, cvn_layer_1.nb_labels)\n",
    "test_dataset, test_labels = reformat(test_dataset, test_labels, cvn_layer_1.height, cvn_layer_1.width, cvn_layer_1.depth, cvn_layer_1.nb_labels)\n",
    "print('Training set', train_dataset.shape, train_labels.shape)\n",
    "print('Validation set', valid_dataset.shape, valid_labels.shape)\n",
    "print('Test set', test_dataset.shape, test_labels.shape)"
   ]
  },
  {
   "cell_type": "markdown",
   "metadata": {
    "colab_type": "text",
    "id": "5rhgjmROXu2O"
   },
   "source": [
    "Let's build a small network with two convolutional layers, followed by one fully connected layer. Convolutional networks are more expensive computationally, so we'll limit its depth and number of fully connected nodes."
   ]
  },
  {
   "cell_type": "code",
   "execution_count": null,
   "metadata": {
    "ExecuteTime": {
     "end_time": "2018-09-10T11:06:07.190736Z",
     "start_time": "2018-09-10T11:06:07.181158Z"
    }
   },
   "outputs": [],
   "source": [
    "graph = cvn.populate_graph(valid_dataset, test_dataset)"
   ]
  },
  {
   "cell_type": "code",
   "execution_count": null,
   "metadata": {
    "ExecuteTime": {
     "end_time": "2018-09-08T13:21:10.975404Z",
     "start_time": "2018-09-08T13:16:52.524688Z"
    },
    "scrolled": true
   },
   "outputs": [],
   "source": [
    "cvn.run_session(train_dataset,\n",
    "                train_labels,\n",
    "                valid_labels,\n",
    "                test_labels,\n",
    "                num_steps=1001,\n",
    "                num_summary_points=100)"
   ]
  },
  {
   "cell_type": "markdown",
   "metadata": {},
   "source": [
    "---\n",
    "Problem 0\n",
    "---------\n",
    "\n",
    "Add a dropout layer with a probability of being kept of 0.8 after the first two convolution layers.\n",
    "\n",
    "---"
   ]
  },
  {
   "cell_type": "code",
   "execution_count": 6,
   "metadata": {
    "ExecuteTime": {
     "end_time": "2018-09-10T11:25:31.624957Z",
     "start_time": "2018-09-10T11:25:31.618787Z"
    },
    "code_folding": []
   },
   "outputs": [
    {
     "name": "stdout",
     "output_type": "stream",
     "text": [
      "To do: remove Dropout for validation and test!\n",
      "To do: remove Dropout for validation and test!\n"
     ]
    }
   ],
   "source": [
    "dropout_1 = Dropout(height=cvn_layer_1.output_height,\n",
    "                    width=cvn_layer_1.output_width,\n",
    "                    depth=cvn_layer_1.conv_depth,\n",
    "                    nb_labels=10,\n",
    "                    keep_prob=0.8)\n",
    "dropout_2 = Dropout(height=cvn_layer_2.output_height,\n",
    "                    width=cvn_layer_2.output_width,\n",
    "                    depth=cvn_layer_2.conv_depth,\n",
    "                    nb_labels=10,\n",
    "                    keep_prob=0.8)"
   ]
  },
  {
   "cell_type": "code",
   "execution_count": null,
   "metadata": {
    "ExecuteTime": {
     "end_time": "2018-09-10T11:23:39.812878Z",
     "start_time": "2018-09-10T11:23:39.801191Z"
    }
   },
   "outputs": [],
   "source": [
    "one_layers_dropout = [cvn_layer_1, dropout_1, cvn_layer_2, dropout_2, fcn_layer_1, fcn_layer_2]\n",
    "cvn_dropout = Covnet(batch_size=16,\n",
    "                      one_layers=one_layers_dropout)"
   ]
  },
  {
   "cell_type": "code",
   "execution_count": null,
   "metadata": {
    "ExecuteTime": {
     "end_time": "2018-09-10T11:14:47.838081Z",
     "start_time": "2018-09-10T11:14:47.293049Z"
    }
   },
   "outputs": [],
   "source": [
    "graph_dropout = cvn_dropout.populate_graph(valid_dataset, test_dataset)"
   ]
  },
  {
   "cell_type": "code",
   "execution_count": null,
   "metadata": {
    "ExecuteTime": {
     "end_time": "2018-09-10T11:20:22.591601Z",
     "start_time": "2018-09-10T11:14:50.127409Z"
    }
   },
   "outputs": [],
   "source": [
    "cvn_dropout.run_session(train_dataset,\n",
    "                        train_labels,\n",
    "                        valid_labels,\n",
    "                        test_labels,\n",
    "                        num_steps=1001,\n",
    "                        num_summary_points=100)"
   ]
  },
  {
   "cell_type": "markdown",
   "metadata": {
    "colab_type": "text",
    "id": "KedKkn4EutIK"
   },
   "source": [
    "---\n",
    "Problem 1\n",
    "---------\n",
    "\n",
    "The first convolutional model above uses convolutions with stride 2 to reduce the dimensionality. Replace the strides by a max pooling operation (`nn.max_pool()`) of stride 2 and kernel size 2.\n",
    "\n",
    "---"
   ]
  },
  {
   "cell_type": "code",
   "execution_count": null,
   "metadata": {
    "ExecuteTime": {
     "end_time": "2018-09-08T13:21:22.473899Z",
     "start_time": "2018-09-08T13:21:22.434682Z"
    }
   },
   "outputs": [],
   "source": [
    "# first covnet layer\n",
    "cvn_layer_pool_1 = OneLayerCovnet(height=28,\n",
    "                                  width=28,\n",
    "                                  depth=1,\n",
    "                                  nb_labels=10,\n",
    "                                  patch_height=5,\n",
    "                                  patch_width=5,\n",
    "                                  conv_depth=16,\n",
    "                                  stride_height=1,\n",
    "                                  stride_width=1,\n",
    "                                  padding='SAME')\n",
    "# first pooling layer\n",
    "pool_layer_1 = Pooling(height=cvn_layer_pool_1.output_height,\n",
    "                       width=cvn_layer_pool_1.output_width,\n",
    "                       depth=cvn_layer_pool_1.conv_depth,\n",
    "                       nb_labels=10,\n",
    "                       pool_height=2,\n",
    "                       pool_width=2,\n",
    "                       pool_depth=1,\n",
    "                       stride_height=2,\n",
    "                       stride_width=2,\n",
    "                       stride_depth=1,\n",
    "                       padding='SAME')\n",
    "# second covnet layer\n",
    "cvn_layer_pool_2 = OneLayerCovnet(height=pool_layer_1.output_height,\n",
    "                                  width=pool_layer_1.output_width,\n",
    "                                  depth=pool_layer_1.output_depth,\n",
    "                                  nb_labels=10,\n",
    "                                  patch_height=5,\n",
    "                                  patch_width=5,\n",
    "                                  conv_depth=16,\n",
    "                                  stride_height=1,\n",
    "                                  stride_width=1,\n",
    "                                  padding='SAME')\n",
    "# first pooling layer\n",
    "pool_layer_2 = Pooling(height=cvn_layer_pool_2.output_height,\n",
    "                       width=cvn_layer_pool_2.output_width,\n",
    "                       depth=cvn_layer_pool_2.conv_depth,\n",
    "                       nb_labels=10,\n",
    "                       pool_height=2,\n",
    "                       pool_width=2,\n",
    "                       pool_depth=1,\n",
    "                       stride_height=2,\n",
    "                       stride_width=2,\n",
    "                       stride_depth=1,\n",
    "                       padding='SAME')\n",
    "# 1st fully connected\n",
    "fcn_layer_pool_1 = OneLayerFullyConnected(input_dim=pool_layer_2.output_height * pool_layer_2.output_width * pool_layer_2.output_depth,\n",
    "                                          nb_hidden=64,\n",
    "                                          nb_labels=10)\n",
    "# 2nd fully connected\n",
    "fcn_layer_pool_2 = OneLayerFullyConnected(input_dim=fcn_layer_pool_1.nb_hidden,\n",
    "                                          nb_hidden=10, # = number of labels\n",
    "                                          nb_labels=10)\n",
    "\n",
    "one_layers_pool = [cvn_layer_pool_1, pool_layer_1, cvn_layer_pool_2,\n",
    "                   pool_layer_2, fcn_layer_pool_1, fcn_layer_pool_2]\n",
    "cvn_pool = Covnet(batch_size=16,\n",
    "                  one_layers=one_layers_pool)"
   ]
  },
  {
   "cell_type": "code",
   "execution_count": null,
   "metadata": {
    "ExecuteTime": {
     "end_time": "2018-09-08T13:21:24.620593Z",
     "start_time": "2018-09-08T13:21:24.111794Z"
    }
   },
   "outputs": [],
   "source": [
    "graph_pool = cvn_pool.populate_graph(valid_dataset, test_dataset)"
   ]
  },
  {
   "cell_type": "code",
   "execution_count": null,
   "metadata": {
    "ExecuteTime": {
     "end_time": "2018-09-08T13:49:01.734453Z",
     "start_time": "2018-09-08T13:21:25.881490Z"
    }
   },
   "outputs": [],
   "source": [
    "cvn_pool.run_session(train_dataset,\n",
    "                     train_labels,\n",
    "                     valid_labels,\n",
    "                     test_labels,\n",
    "                     num_steps=1001,\n",
    "                     num_summary_points=100)"
   ]
  },
  {
   "cell_type": "markdown",
   "metadata": {
    "colab_type": "text",
    "id": "klf21gpbAgb-"
   },
   "source": [
    "---\n",
    "Problem 2\n",
    "---------\n",
    "\n",
    "Try to get the best performance you can using a convolutional net. Look for example at the classic [LeNet5](http://yann.lecun.com/exdb/lenet/) architecture, adding Dropout, and/or adding learning rate decay.\n",
    "\n",
    "---"
   ]
  }
 ],
 "metadata": {
  "colab": {
   "default_view": {},
   "name": "4_convolutions.ipynb",
   "provenance": [],
   "version": "0.3.2",
   "views": {}
  },
  "kernelspec": {
   "display_name": "Python 3",
   "language": "python",
   "name": "python3"
  },
  "language_info": {
   "codemirror_mode": {
    "name": "ipython",
    "version": 3
   },
   "file_extension": ".py",
   "mimetype": "text/x-python",
   "name": "python",
   "nbconvert_exporter": "python",
   "pygments_lexer": "ipython3",
   "version": "3.6.4"
  },
  "varInspector": {
   "cols": {
    "lenName": 16,
    "lenType": 16,
    "lenVar": 40
   },
   "kernels_config": {
    "python": {
     "delete_cmd_postfix": "",
     "delete_cmd_prefix": "del ",
     "library": "var_list.py",
     "varRefreshCmd": "print(var_dic_list())"
    },
    "r": {
     "delete_cmd_postfix": ") ",
     "delete_cmd_prefix": "rm(",
     "library": "var_list.r",
     "varRefreshCmd": "cat(var_dic_list()) "
    }
   },
   "types_to_exclude": [
    "module",
    "function",
    "builtin_function_or_method",
    "instance",
    "_Feature"
   ],
   "window_display": false
  }
 },
 "nbformat": 4,
 "nbformat_minor": 1
}
