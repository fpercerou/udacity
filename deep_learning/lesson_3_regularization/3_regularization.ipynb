{
 "cells": [
  {
   "cell_type": "markdown",
   "metadata": {
    "colab_type": "text",
    "id": "kR-4eNdK6lYS"
   },
   "source": [
    "Deep Learning\n",
    "=============\n",
    "\n",
    "Assignment 3\n",
    "------------\n",
    "\n",
    "Previously in `2_fullyconnected.ipynb`, you trained a logistic regression and a neural network model.\n",
    "\n",
    "The goal of this assignment is to explore regularization techniques."
   ]
  },
  {
   "cell_type": "code",
   "execution_count": 1,
   "metadata": {
    "cellView": "both",
    "colab": {
     "autoexec": {
      "startup": false,
      "wait_interval": 0
     }
    },
    "colab_type": "code",
    "id": "JLpLa8Jt7Vu4"
   },
   "outputs": [
    {
     "name": "stderr",
     "output_type": "stream",
     "text": [
      "/home/florian/anaconda3/lib/python3.6/site-packages/h5py/__init__.py:36: FutureWarning: Conversion of the second argument of issubdtype from `float` to `np.floating` is deprecated. In future, it will be treated as `np.float64 == np.dtype(float).type`.\n",
      "  from ._conv import register_converters as _register_converters\n"
     ]
    }
   ],
   "source": [
    "# These are all the modules we'll be using later. Make sure you can import them\n",
    "# before proceeding further.\n",
    "from __future__ import print_function\n",
    "import numpy as np\n",
    "import tensorflow as tf\n",
    "from six.moves import cPickle as pickle"
   ]
  },
  {
   "cell_type": "markdown",
   "metadata": {
    "colab_type": "text",
    "id": "1HrCK6e17WzV"
   },
   "source": [
    "First reload the data we generated in `1_notmnist.ipynb`."
   ]
  },
  {
   "cell_type": "code",
   "execution_count": 2,
   "metadata": {
    "cellView": "both",
    "colab": {
     "autoexec": {
      "startup": false,
      "wait_interval": 0
     },
     "output_extras": [
      {
       "item_id": 1
      }
     ]
    },
    "colab_type": "code",
    "executionInfo": {
     "elapsed": 11777,
     "status": "ok",
     "timestamp": 1449849322348,
     "user": {
      "color": "",
      "displayName": "",
      "isAnonymous": false,
      "isMe": true,
      "permissionId": "",
      "photoUrl": "",
      "sessionId": "0",
      "userId": ""
     },
     "user_tz": 480
    },
    "id": "y3-cj1bpmuxc",
    "outputId": "e03576f1-ebbe-4838-c388-f1777bcc9873"
   },
   "outputs": [
    {
     "name": "stdout",
     "output_type": "stream",
     "text": [
      "Training set (200000, 28, 28) (200000,)\n",
      "Validation set (10000, 28, 28) (10000,)\n",
      "Test set (10000, 28, 28) (10000,)\n"
     ]
    }
   ],
   "source": [
    "pickle_file = '../lesson_2/notMNIST.pickle'\n",
    "\n",
    "with open(pickle_file, 'rb') as f:\n",
    "  save = pickle.load(f)\n",
    "  train_dataset = save['train_dataset']\n",
    "  train_labels = save['train_labels']\n",
    "  valid_dataset = save['valid_dataset']\n",
    "  valid_labels = save['valid_labels']\n",
    "  test_dataset = save['test_dataset']\n",
    "  test_labels = save['test_labels']\n",
    "  del save  # hint to help gc free up memory\n",
    "  print('Training set', train_dataset.shape, train_labels.shape)\n",
    "  print('Validation set', valid_dataset.shape, valid_labels.shape)\n",
    "  print('Test set', test_dataset.shape, test_labels.shape)"
   ]
  },
  {
   "cell_type": "markdown",
   "metadata": {
    "colab_type": "text",
    "id": "L7aHrm6nGDMB"
   },
   "source": [
    "Reformat into a shape that's more adapted to the models we're going to train:\n",
    "- data as a flat matrix,\n",
    "- labels as float 1-hot encodings."
   ]
  },
  {
   "cell_type": "code",
   "execution_count": 3,
   "metadata": {
    "cellView": "both",
    "colab": {
     "autoexec": {
      "startup": false,
      "wait_interval": 0
     },
     "output_extras": [
      {
       "item_id": 1
      }
     ]
    },
    "colab_type": "code",
    "executionInfo": {
     "elapsed": 11728,
     "status": "ok",
     "timestamp": 1449849322356,
     "user": {
      "color": "",
      "displayName": "",
      "isAnonymous": false,
      "isMe": true,
      "permissionId": "",
      "photoUrl": "",
      "sessionId": "0",
      "userId": ""
     },
     "user_tz": 480
    },
    "id": "IRSyYiIIGIzS",
    "outputId": "3f8996ee-3574-4f44-c953-5c8a04636582"
   },
   "outputs": [
    {
     "name": "stdout",
     "output_type": "stream",
     "text": [
      "Training set (200000, 784) (200000, 10)\n",
      "Validation set (10000, 784) (10000, 10)\n",
      "Test set (10000, 784) (10000, 10)\n"
     ]
    }
   ],
   "source": [
    "image_size = 28\n",
    "num_labels = 10\n",
    "\n",
    "def reformat(dataset, labels):\n",
    "  dataset = dataset.reshape((-1, image_size * image_size)).astype(np.float32)\n",
    "  # Map 1 to [0.0, 1.0, 0.0 ...], 2 to [0.0, 0.0, 1.0 ...]\n",
    "  labels = (np.arange(num_labels) == labels[:,None]).astype(np.float32)\n",
    "  return dataset, labels\n",
    "train_dataset, train_labels = reformat(train_dataset, train_labels)\n",
    "valid_dataset, valid_labels = reformat(valid_dataset, valid_labels)\n",
    "test_dataset, test_labels = reformat(test_dataset, test_labels)\n",
    "print('Training set', train_dataset.shape, train_labels.shape)\n",
    "print('Validation set', valid_dataset.shape, valid_labels.shape)\n",
    "print('Test set', test_dataset.shape, test_labels.shape)"
   ]
  },
  {
   "cell_type": "code",
   "execution_count": 4,
   "metadata": {
    "cellView": "both",
    "colab": {
     "autoexec": {
      "startup": false,
      "wait_interval": 0
     }
    },
    "colab_type": "code",
    "id": "RajPLaL_ZW6w"
   },
   "outputs": [],
   "source": [
    "def accuracy(predictions, labels):\n",
    "  return (100.0 * np.sum(np.argmax(predictions, 1) == np.argmax(labels, 1))\n",
    "          / predictions.shape[0])"
   ]
  },
  {
   "cell_type": "markdown",
   "metadata": {
    "colab_type": "text",
    "id": "sgLbUAQ1CW-1"
   },
   "source": [
    "---\n",
    "Problem 1\n",
    "---------\n",
    "\n",
    "Introduce and tune L2 regularization for both logistic and neural network models. Remember that L2 amounts to adding a penalty on the norm of the weights to the loss. In TensorFlow, you can compute the L2 loss for a tensor `t` using `nn.l2_loss(t)`. The right amount of regularization should improve your validation / test accuracy.\n",
    "\n",
    "---"
   ]
  },
  {
   "cell_type": "markdown",
   "metadata": {},
   "source": [
    "### Regularization for logit"
   ]
  },
  {
   "cell_type": "code",
   "execution_count": 12,
   "metadata": {},
   "outputs": [],
   "source": [
    "batch_size = 128\n",
    "beta_l2_logit = 0.1\n",
    "\n",
    "\n",
    "graph_logit = tf.Graph()\n",
    "with graph_logit.as_default():\n",
    "\n",
    "  # Input data. For the training data, we use a placeholder that will be fed\n",
    "  # at run time with a training minibatch.\n",
    "  tf_train_dataset = tf.placeholder(tf.float32,\n",
    "                                    shape=(batch_size, image_size * image_size))\n",
    "  tf_train_labels = tf.placeholder(tf.float32, shape=(batch_size, num_labels))\n",
    "  tf_valid_dataset = tf.constant(valid_dataset)\n",
    "  tf_test_dataset = tf.constant(test_dataset)\n",
    "  \n",
    "  # Variables.\n",
    "  weights = tf.Variable(\n",
    "    tf.truncated_normal([image_size * image_size, num_labels]))\n",
    "  biases = tf.Variable(tf.zeros([num_labels]))\n",
    "  \n",
    "  # Training computation.\n",
    "  logits = tf.matmul(tf_train_dataset, weights) + biases\n",
    "  loss = (tf.reduce_mean(tf.nn.softmax_cross_entropy_with_logits(labels=tf_train_labels,\n",
    "                                                                logits=logits))\n",
    "          + 0.5 * tf.nn.l2_loss(weights) * beta_l2_logit\n",
    "          + 0.5 * tf.nn.l2_loss(biases) * beta_l2_logit)\n",
    "  \n",
    "  # Optimizer.\n",
    "  optimizer = tf.train.GradientDescentOptimizer(0.5).minimize(loss)\n",
    "  \n",
    "  # Predictions for the training, validation, and test data.\n",
    "  train_prediction = tf.nn.softmax(logits)\n",
    "  valid_prediction = tf.nn.softmax(tf.matmul(tf_valid_dataset,\n",
    "                                             weights)\n",
    "                                   + biases)\n",
    "  test_prediction = tf.nn.softmax(tf.matmul(tf_test_dataset,\n",
    "                                            weights)\n",
    "                                  + biases)"
   ]
  },
  {
   "cell_type": "code",
   "execution_count": 13,
   "metadata": {},
   "outputs": [
    {
     "name": "stdout",
     "output_type": "stream",
     "text": [
      "Initialized\n",
      "Minibatch loss at step 0: 171.660370\n",
      "Minibatch accuracy: 12.5%\n",
      "Validation accuracy: 12.7%\n",
      "Minibatch loss at step 500: 0.959273\n",
      "Minibatch accuracy: 79.7%\n",
      "Validation accuracy: 79.1%\n",
      "Minibatch loss at step 1000: 1.064678\n",
      "Minibatch accuracy: 75.8%\n",
      "Validation accuracy: 77.9%\n",
      "Minibatch loss at step 1500: 1.035628\n",
      "Minibatch accuracy: 71.9%\n",
      "Validation accuracy: 79.1%\n",
      "Minibatch loss at step 2000: 0.914261\n",
      "Minibatch accuracy: 78.9%\n",
      "Validation accuracy: 76.7%\n",
      "Minibatch loss at step 2500: 0.783527\n",
      "Minibatch accuracy: 85.2%\n",
      "Validation accuracy: 80.0%\n",
      "Minibatch loss at step 3000: 0.959366\n",
      "Minibatch accuracy: 74.2%\n",
      "Validation accuracy: 78.9%\n",
      "Test accuracy: 85.5%\n"
     ]
    }
   ],
   "source": [
    "num_steps = 3001\n",
    "\n",
    "with tf.Session(graph=graph_logit) as session:\n",
    "  tf.global_variables_initializer().run()\n",
    "  print(\"Initialized\")\n",
    "  for step in range(num_steps):\n",
    "    # Pick an offset within the training data, which has been randomized.\n",
    "    # Note: we could use better randomization across epochs.\n",
    "    offset = (step * batch_size) % (train_labels.shape[0] - batch_size)\n",
    "    # Generate a minibatch.\n",
    "    batch_data = train_dataset[offset:(offset + batch_size), :]\n",
    "    batch_labels = train_labels[offset:(offset + batch_size), :]\n",
    "    # Prepare a dictionary telling the session where to feed the minibatch.\n",
    "    # The key of the dictionary is the placeholder node of the graph to be fed,\n",
    "    # and the value is the numpy array to feed to it.\n",
    "    feed_dict = {tf_train_dataset : batch_data, tf_train_labels : batch_labels}\n",
    "    _, l, predictions = session.run(\n",
    "      [optimizer, loss, train_prediction], feed_dict=feed_dict)\n",
    "    if (step % 500 == 0):\n",
    "      print(\"Minibatch loss at step %d: %f\" % (step, l))\n",
    "      print(\"Minibatch accuracy: %.1f%%\" % accuracy(predictions, batch_labels))\n",
    "      print(\"Validation accuracy: %.1f%%\" % accuracy(\n",
    "        valid_prediction.eval(), valid_labels))\n",
    "  print(\"Test accuracy: %.1f%%\" % accuracy(test_prediction.eval(), test_labels))"
   ]
  },
  {
   "cell_type": "markdown",
   "metadata": {},
   "source": [
    "### Regularization for 1-layer NN"
   ]
  },
  {
   "cell_type": "code",
   "execution_count": 6,
   "metadata": {},
   "outputs": [
    {
     "name": "stdout",
     "output_type": "stream",
     "text": [
      "WARNING:tensorflow:From <ipython-input-6-ccca64334ae6>:37: softmax_cross_entropy_with_logits (from tensorflow.python.ops.nn_ops) is deprecated and will be removed in a future version.\n",
      "Instructions for updating:\n",
      "\n",
      "Future major versions of TensorFlow will allow gradients to flow\n",
      "into the labels input on backprop by default.\n",
      "\n",
      "See @{tf.nn.softmax_cross_entropy_with_logits_v2}.\n",
      "\n"
     ]
    }
   ],
   "source": [
    "num_hidden_layers = 1024\n",
    "beta_l2_1_layer_sgd = 0.1\n",
    "\n",
    "\n",
    "batch_size = 128\n",
    "\n",
    "graph_1_layer_sgd = tf.Graph()\n",
    "with graph_1_layer_sgd.as_default():\n",
    "\n",
    "  # Input data. For the training data, we use a placeholder that will be fed\n",
    "  # at run time with a training minibatch.\n",
    "  tf_train_dataset = tf.placeholder(tf.float32,\n",
    "                                    shape=(batch_size, image_size * image_size))\n",
    "  tf_train_labels = tf.placeholder(tf.float32, shape=(batch_size, num_labels))\n",
    "  tf_valid_dataset = tf.constant(valid_dataset)\n",
    "  tf_test_dataset = tf.constant(test_dataset)\n",
    "  \n",
    "  # Variables.\n",
    "  weights = tf.Variable(tf.truncated_normal([image_size * image_size,\n",
    "                                             num_hidden_layers]))\n",
    "  biases = tf.Variable(tf.zeros([num_hidden_layers]))\n",
    "  preactivations_hidden = tf.add(tf.matmul(tf_train_dataset, weights), biases)\n",
    "\n",
    "  # Hidden layer.\n",
    "  activations_hidden = tf.nn.relu(preactivations_hidden)\n",
    "  weights_hidden = tf.Variable(tf.truncated_normal([num_hidden_layers, num_labels]))\n",
    "  bias_hidden = tf.Variable(tf.random_normal([num_labels]))\n",
    "  logit_hidden = tf.add(tf.matmul(activations_hidden, weights_hidden), bias_hidden)\n",
    "    \n",
    "    \n",
    "  # Training computation.\n",
    "  loss = (tf.reduce_mean(tf.nn.softmax_cross_entropy_with_logits(labels=tf_train_labels,\n",
    "                                                                logits=logit_hidden))\n",
    "          + 0.5 * tf.nn.l2_loss(weights) * beta_l2_1_layer_sgd\n",
    "          + 0.5 * tf.nn.l2_loss(biases) * beta_l2_1_layer_sgd\n",
    "          + 0.5 * tf.nn.l2_loss(weights_hidden) * beta_l2_1_layer_sgd\n",
    "          + 0.5 * tf.nn.l2_loss(bias_hidden) * beta_l2_1_layer_sgd\n",
    "         )\n",
    "\n",
    "\n",
    "  # Optimizer.\n",
    "  optimizer = tf.train.GradientDescentOptimizer(0.5).minimize(loss)\n",
    "  \n",
    "  # Predictions for the training, validation, and test data.\n",
    "  train_prediction = tf.nn.softmax(logit_hidden)\n",
    "  valid_prediction = tf.nn.softmax(tf.add(tf.matmul(tf.nn.relu(tf.add(tf.matmul(tf_valid_dataset,\n",
    "                                                                                   weights),\n",
    "                                                                         biases)),\n",
    "                                                    weights_hidden),\n",
    "                                          bias_hidden))\n",
    "  test_prediction = tf.nn.softmax(tf.add(tf.matmul(tf.nn.relu(tf.add(tf.matmul(tf_test_dataset,\n",
    "                                                                                  weights),\n",
    "                                                                         biases)),\n",
    "                                                    weights_hidden),\n",
    "                                          bias_hidden))"
   ]
  },
  {
   "cell_type": "code",
   "execution_count": 30,
   "metadata": {},
   "outputs": [
    {
     "name": "stdout",
     "output_type": "stream",
     "text": [
      "Initialized\n",
      "\n",
      "\n",
      "step 0 / 1562\n",
      "Minibatch loss: 16098.760742\n",
      "Minibatch accuracy: 6.2%\n",
      "Validation accuracy: 27.4%\n",
      "\n",
      "\n",
      "\n",
      "step 156 / 1562\n",
      "Minibatch loss: 6.897063\n",
      "Minibatch accuracy: 81.2%\n",
      "Validation accuracy: 77.6%\n",
      "\n",
      "\n",
      "\n",
      "step 312 / 1562\n",
      "Minibatch loss: 1.296801\n",
      "Minibatch accuracy: 72.7%\n",
      "Validation accuracy: 78.9%\n",
      "\n",
      "\n",
      "\n",
      "step 468 / 1562\n",
      "Minibatch loss: 1.184422\n",
      "Minibatch accuracy: 78.1%\n",
      "Validation accuracy: 78.7%\n",
      "\n",
      "\n",
      "\n",
      "step 624 / 1562\n",
      "Minibatch loss: 1.120281\n",
      "Minibatch accuracy: 81.2%\n",
      "Validation accuracy: 80.5%\n",
      "\n",
      "\n",
      "\n",
      "step 780 / 1562\n",
      "Minibatch loss: 1.075450\n",
      "Minibatch accuracy: 80.5%\n",
      "Validation accuracy: 78.8%\n",
      "\n",
      "\n",
      "\n",
      "step 936 / 1562\n",
      "Minibatch loss: 1.145546\n",
      "Minibatch accuracy: 79.7%\n",
      "Validation accuracy: 80.7%\n",
      "\n",
      "\n",
      "\n",
      "step 1092 / 1562\n",
      "Minibatch loss: 0.984700\n",
      "Minibatch accuracy: 85.2%\n",
      "Validation accuracy: 78.0%\n",
      "\n",
      "\n",
      "\n",
      "step 1248 / 1562\n",
      "Minibatch loss: 1.098441\n",
      "Minibatch accuracy: 82.0%\n",
      "Validation accuracy: 79.4%\n",
      "\n",
      "\n",
      "\n",
      "step 1404 / 1562\n",
      "Minibatch loss: 1.151491\n",
      "Minibatch accuracy: 76.6%\n",
      "Validation accuracy: 80.0%\n",
      "\n",
      "\n",
      "\n",
      "step 1560 / 1562\n",
      "Minibatch loss: 1.015453\n",
      "Minibatch accuracy: 82.8%\n",
      "Validation accuracy: 79.4%\n",
      "\n",
      "\n",
      "\n",
      "Test accuracy: 86.8%\n"
     ]
    }
   ],
   "source": [
    "batch_size = 128\n",
    "num_steps = int(train_labels.shape[0] / batch_size)\n",
    "\n",
    "with tf.Session(graph=graph_1_layer_sgd) as session:\n",
    "  tf.global_variables_initializer().run()\n",
    "  print(\"Initialized\\n\\n\")\n",
    "  for step in range(num_steps):\n",
    "    # Pick an offset within the training data, which has been randomized.\n",
    "    # Note: we could use better randomization across epochs.\n",
    "    offset = (step * batch_size) % (train_labels.shape[0] - batch_size)\n",
    "    # Generate a minibatch.\n",
    "    batch_data = train_dataset[offset:(offset + batch_size), :]\n",
    "    batch_labels = train_labels[offset:(offset + batch_size), :]\n",
    "    # Prepare a dictionary telling the session where to feed the minibatch.\n",
    "    # The key of the dictionary is the placeholder node of the graph to be fed,\n",
    "    # and the value is the numpy array to feed to it.\n",
    "    feed_dict = {tf_train_dataset : batch_data,\n",
    "                 tf_train_labels : batch_labels}\n",
    "    _, l, predictions = session.run([optimizer, loss, train_prediction],\n",
    "                                    feed_dict=feed_dict)\n",
    "    if (step % int(num_steps/10) == 0):\n",
    "      print(\"step %s / %s\" %(step, num_steps))\n",
    "      print(\"Minibatch loss: %f\" % l)\n",
    "      print(\"Minibatch accuracy: %.1f%%\" % accuracy(predictions, batch_labels))\n",
    "      print(\"Validation accuracy: %.1f%%\" % accuracy(\n",
    "        valid_prediction.eval(), valid_labels))\n",
    "      print(\"\\n\\n\")\n",
    "  print(\"Test accuracy: %.1f%%\" % accuracy(test_prediction.eval(), test_labels))"
   ]
  },
  {
   "cell_type": "markdown",
   "metadata": {
    "colab_type": "text",
    "id": "na8xX2yHZzNF"
   },
   "source": [
    "---\n",
    "Problem 2\n",
    "---------\n",
    "Let's demonstrate an extreme case of overfitting. Restrict your training data to just a few batches. What happens?\n",
    "\n",
    "---"
   ]
  },
  {
   "cell_type": "code",
   "execution_count": 45,
   "metadata": {},
   "outputs": [
    {
     "data": {
      "text/plain": [
       "((400, 10), (400, 784))"
      ]
     },
     "execution_count": 45,
     "metadata": {},
     "output_type": "execute_result"
    }
   ],
   "source": [
    "# let's take a fraction only of the train set\n",
    "fraction = 1 / 500\n",
    "train_dataset_sub_set = train_dataset[:int(train_dataset.shape[0]*fraction),:]\n",
    "train_labels_sub_set = train_labels[:int(train_labels.shape[0]*fraction),:]\n",
    "\n",
    "train_labels_sub_set.shape, train_dataset_sub_set.shape # , train_labels"
   ]
  },
  {
   "cell_type": "code",
   "execution_count": 46,
   "metadata": {},
   "outputs": [
    {
     "data": {
      "text/plain": [
       "3"
      ]
     },
     "execution_count": 46,
     "metadata": {},
     "output_type": "execute_result"
    }
   ],
   "source": [
    "batch_size = 128\n",
    "num_steps = int(train_labels_sub_set.shape[0] / batch_size)\n",
    "num_steps"
   ]
  },
  {
   "cell_type": "code",
   "execution_count": 47,
   "metadata": {},
   "outputs": [
    {
     "name": "stdout",
     "output_type": "stream",
     "text": [
      "Initialized\n",
      "\n",
      "\n",
      "step 0 / 3\n",
      "Minibatch loss: 16132.888672\n",
      "Minibatch accuracy: 7.0%\n",
      "Validation accuracy: 30.3%\n",
      "\n",
      "\n",
      "\n",
      "step 1 / 3\n",
      "Minibatch loss: 16076.161133\n",
      "Minibatch accuracy: 31.2%\n",
      "Validation accuracy: 32.7%\n",
      "\n",
      "\n",
      "\n",
      "step 2 / 3\n",
      "Minibatch loss: 15136.698242\n",
      "Minibatch accuracy: 22.7%\n",
      "Validation accuracy: 53.5%\n",
      "\n",
      "\n",
      "\n",
      "Test accuracy: 57.8%\n"
     ]
    }
   ],
   "source": [
    "with tf.Session(graph=graph_1_layer_sgd) as session:\n",
    "  tf.global_variables_initializer().run()\n",
    "  print(\"Initialized\\n\\n\")\n",
    "  for step in range(num_steps):\n",
    "    # Pick an offset within the training data, which has been randomized.\n",
    "    # Note: we could use better randomization across epochs.\n",
    "    offset = (step * batch_size) % (train_labels_sub_set.shape[0] - batch_size)\n",
    "    # Generate a minibatch.\n",
    "    batch_data = train_dataset_sub_set[offset:(offset + batch_size), :]\n",
    "    batch_labels = train_labels_sub_set[offset:(offset + batch_size), :]\n",
    "    # Prepare a dictionary telling the session where to feed the minibatch.\n",
    "    # The key of the dictionary is the placeholder node of the graph to be fed,\n",
    "    # and the value is the numpy array to feed to it.\n",
    "    feed_dict = {tf_train_dataset : batch_data,\n",
    "                 tf_train_labels : batch_labels}\n",
    "    _, l, predictions = session.run([optimizer, loss, train_prediction],\n",
    "                                    feed_dict=feed_dict)\n",
    "    if (step % int(num_steps/np.min([num_steps, 10])) == 0):\n",
    "      print(\"step %s / %s\" %(step, num_steps))\n",
    "      print(\"Minibatch loss: %f\" % l)\n",
    "      print(\"Minibatch accuracy: %.1f%%\" % accuracy(predictions, batch_labels))\n",
    "      print(\"Validation accuracy: %.1f%%\" % accuracy(valid_prediction.eval(),\n",
    "                                                     valid_labels))\n",
    "      print(\"\\n\\n\")\n",
    "  print(\"Test accuracy: %.1f%%\" % accuracy(test_prediction.eval(), test_labels))"
   ]
  },
  {
   "cell_type": "markdown",
   "metadata": {
    "colab_type": "text",
    "id": "ww3SCBUdlkRc"
   },
   "source": [
    "---\n",
    "Problem 3\n",
    "---------\n",
    "Introduce Dropout on the hidden layer of the neural network. Remember: Dropout should only be introduced during training, not evaluation, otherwise your evaluation results would be stochastic as well. TensorFlow provides `nn.dropout()` for that, but you have to make sure it's only inserted during training.\n",
    "\n",
    "What happens to our extreme overfitting case?\n",
    "\n",
    "---"
   ]
  },
  {
   "cell_type": "code",
   "execution_count": 49,
   "metadata": {},
   "outputs": [],
   "source": [
    "num_hidden_layers = 1024\n",
    "beta_l2_1_layer_sgd = 0.1\n",
    "drop_out_ratio = 0.5\n",
    "\n",
    "\n",
    "batch_size = 128\n",
    "\n",
    "graph_1_layer_sgd_with_dropout = tf.Graph()\n",
    "with graph_1_layer_sgd_with_dropout.as_default():\n",
    "\n",
    "  # Input data. For the training data, we use a placeholder that will be fed\n",
    "  # at run time with a training minibatch.\n",
    "  tf_train_dataset = tf.placeholder(tf.float32,\n",
    "                                    shape=(batch_size, image_size * image_size))\n",
    "  tf_train_labels = tf.placeholder(tf.float32, shape=(batch_size, num_labels))\n",
    "  tf_valid_dataset = tf.constant(valid_dataset)\n",
    "  tf_test_dataset = tf.constant(test_dataset)\n",
    "  \n",
    "  # Variables.\n",
    "  weights = tf.Variable(tf.truncated_normal([image_size * image_size,\n",
    "                                             num_hidden_layers]))\n",
    "  biases = tf.Variable(tf.zeros([num_hidden_layers]))\n",
    "  preactivations_hidden = tf.add(tf.matmul(tf_train_dataset, weights), biases)\n",
    "\n",
    "  # Hidden layer.\n",
    "  activations_hidden = tf.nn.relu(preactivations_hidden)\n",
    "  weights_hidden = tf.Variable(tf.truncated_normal([num_hidden_layers, num_labels]))\n",
    "  bias_hidden = tf.Variable(tf.random_normal([num_labels]))\n",
    "  logit_hidden = tf.nn.dropout(tf.add(tf.matmul(activations_hidden, weights_hidden),\n",
    "                                      bias_hidden),\n",
    "                               keep_prob=drop_out_ratio)\n",
    "    \n",
    "    \n",
    "  # Training computation.\n",
    "  loss = (tf.reduce_mean(tf.nn.softmax_cross_entropy_with_logits(labels=tf_train_labels,\n",
    "                                                                logits=logit_hidden))\n",
    "          + 0.5 * tf.nn.l2_loss(weights) * beta_l2_1_layer_sgd\n",
    "          + 0.5 * tf.nn.l2_loss(biases) * beta_l2_1_layer_sgd\n",
    "          + 0.5 * tf.nn.l2_loss(weights_hidden) * beta_l2_1_layer_sgd\n",
    "          + 0.5 * tf.nn.l2_loss(bias_hidden) * beta_l2_1_layer_sgd\n",
    "         )\n",
    "\n",
    "\n",
    "  # Optimizer.\n",
    "  optimizer = tf.train.GradientDescentOptimizer(0.5).minimize(loss)\n",
    "  \n",
    "  # Predictions for the training, validation, and test data.\n",
    "  train_prediction = tf.nn.softmax(logit_hidden)\n",
    "  valid_prediction = tf.nn.softmax(tf.add(tf.matmul(tf.nn.relu(tf.add(tf.matmul(tf_valid_dataset,\n",
    "                                                                                   weights),\n",
    "                                                                         biases)),\n",
    "                                                    weights_hidden),\n",
    "                                          bias_hidden))\n",
    "  test_prediction = tf.nn.softmax(tf.add(tf.matmul(tf.nn.relu(tf.add(tf.matmul(tf_test_dataset,\n",
    "                                                                                  weights),\n",
    "                                                                         biases)),\n",
    "                                                    weights_hidden),\n",
    "                                          bias_hidden))"
   ]
  },
  {
   "cell_type": "code",
   "execution_count": 50,
   "metadata": {},
   "outputs": [
    {
     "name": "stdout",
     "output_type": "stream",
     "text": [
      "Initialized\n",
      "\n",
      "\n",
      "step 0 / 3001\n",
      "Minibatch loss: 16342.564453\n",
      "Minibatch accuracy: 10.9%\n",
      "Validation accuracy: 27.7%\n",
      "\n",
      "\n",
      "\n",
      "step 300 / 3001\n",
      "Minibatch loss: 1.626547\n",
      "Minibatch accuracy: 53.9%\n",
      "Validation accuracy: 76.5%\n",
      "\n",
      "\n",
      "\n",
      "step 600 / 3001\n",
      "Minibatch loss: 1.759867\n",
      "Minibatch accuracy: 44.5%\n",
      "Validation accuracy: 78.4%\n",
      "\n",
      "\n",
      "\n",
      "step 900 / 3001\n",
      "Minibatch loss: 1.794249\n",
      "Minibatch accuracy: 43.0%\n",
      "Validation accuracy: 77.2%\n",
      "\n",
      "\n",
      "\n",
      "step 1200 / 3001\n",
      "Minibatch loss: 1.607568\n",
      "Minibatch accuracy: 49.2%\n",
      "Validation accuracy: 77.0%\n",
      "\n",
      "\n",
      "\n",
      "step 1500 / 3001\n",
      "Minibatch loss: 1.833777\n",
      "Minibatch accuracy: 39.1%\n",
      "Validation accuracy: 77.3%\n",
      "\n",
      "\n",
      "\n",
      "step 1800 / 3001\n",
      "Minibatch loss: 1.609981\n",
      "Minibatch accuracy: 51.6%\n",
      "Validation accuracy: 79.1%\n",
      "\n",
      "\n",
      "\n",
      "step 2100 / 3001\n",
      "Minibatch loss: 1.732864\n",
      "Minibatch accuracy: 43.8%\n",
      "Validation accuracy: 78.5%\n",
      "\n",
      "\n",
      "\n",
      "step 2400 / 3001\n",
      "Minibatch loss: 1.748833\n",
      "Minibatch accuracy: 46.1%\n",
      "Validation accuracy: 76.2%\n",
      "\n",
      "\n",
      "\n",
      "step 2700 / 3001\n",
      "Minibatch loss: 1.564802\n",
      "Minibatch accuracy: 51.6%\n",
      "Validation accuracy: 77.3%\n",
      "\n",
      "\n",
      "\n",
      "step 3000 / 3001\n",
      "Minibatch loss: 1.612596\n",
      "Minibatch accuracy: 47.7%\n",
      "Validation accuracy: 78.9%\n",
      "\n",
      "\n",
      "\n",
      "Test accuracy: 85.8%\n"
     ]
    }
   ],
   "source": [
    "num_steps = 3001\n",
    "\n",
    "with tf.Session(graph=graph_1_layer_sgd_with_dropout) as session:\n",
    "  tf.global_variables_initializer().run()\n",
    "  print(\"Initialized\\n\\n\")\n",
    "  for step in range(num_steps):\n",
    "    # Pick an offset within the training data, which has been randomized.\n",
    "    # Note: we could use better randomization across epochs.\n",
    "    offset = (step * batch_size) % (train_labels.shape[0] - batch_size)\n",
    "    # Generate a minibatch.\n",
    "    batch_data = train_dataset[offset:(offset + batch_size), :]\n",
    "    batch_labels = train_labels[offset:(offset + batch_size), :]\n",
    "    # Prepare a dictionary telling the session where to feed the minibatch.\n",
    "    # The key of the dictionary is the placeholder node of the graph to be fed,\n",
    "    # and the value is the numpy array to feed to it.\n",
    "    feed_dict = {tf_train_dataset : batch_data, tf_train_labels : batch_labels}\n",
    "    _, l, predictions = session.run([optimizer, loss, train_prediction],\n",
    "                                    feed_dict=feed_dict)\n",
    "    if (step % int(num_steps/np.min([num_steps, 10])) == 0):\n",
    "      print(\"step %s / %s\" %(step, num_steps))\n",
    "      print(\"Minibatch loss: %f\" % l)\n",
    "      print(\"Minibatch accuracy: %.1f%%\" % accuracy(predictions, batch_labels))\n",
    "      print(\"Validation accuracy: %.1f%%\" % accuracy(valid_prediction.eval(),\n",
    "                                                     valid_labels))\n",
    "      print(\"\\n\\n\")\n",
    "  print(\"Test accuracy: %.1f%%\" % accuracy(test_prediction.eval(), test_labels))"
   ]
  },
  {
   "cell_type": "markdown",
   "metadata": {
    "colab_type": "text",
    "id": "-b1hTz3VWZjw"
   },
   "source": [
    "---\n",
    "Problem 4\n",
    "---------\n",
    "\n",
    "Try to get the best performance you can using a multi-layer model! The best reported test accuracy using a deep network is [97.1%](http://yaroslavvb.blogspot.com/2011/09/notmnist-dataset.html?showComment=1391023266211#c8758720086795711595).\n",
    "\n",
    "One avenue you can explore is to add multiple layers.\n",
    "\n",
    "Another one is to use learning rate decay:\n",
    "\n",
    "    global_step = tf.Variable(0)  # count the number of steps taken.\n",
    "    learning_rate = tf.train.exponential_decay(0.5, global_step, ...)\n",
    "    optimizer = tf.train.GradientDescentOptimizer(learning_rate).minimize(loss, global_step=global_step)\n",
    " \n",
    " ---\n"
   ]
  },
  {
   "cell_type": "markdown",
   "metadata": {},
   "source": [
    "## -> TO DO !"
   ]
  },
  {
   "cell_type": "code",
   "execution_count": null,
   "metadata": {},
   "outputs": [],
   "source": []
  }
 ],
 "metadata": {
  "colab": {
   "default_view": {},
   "name": "3_regularization.ipynb",
   "provenance": [],
   "version": "0.3.2",
   "views": {}
  },
  "kernelspec": {
   "display_name": "Python 3",
   "language": "python",
   "name": "python3"
  },
  "language_info": {
   "codemirror_mode": {
    "name": "ipython",
    "version": 3
   },
   "file_extension": ".py",
   "mimetype": "text/x-python",
   "name": "python",
   "nbconvert_exporter": "python",
   "pygments_lexer": "ipython3",
   "version": "3.6.4"
  }
 },
 "nbformat": 4,
 "nbformat_minor": 1
}
