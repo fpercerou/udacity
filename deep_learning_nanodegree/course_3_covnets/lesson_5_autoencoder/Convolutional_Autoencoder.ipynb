{
 "cells": [
  {
   "cell_type": "markdown",
   "metadata": {},
   "source": [
    "# Convolutional Autoencoder\n",
    "\n",
    "Sticking with the MNIST dataset, let's improve our autoencoder's performance using convolutional layers. Again, loading modules and the data."
   ]
  },
  {
   "cell_type": "code",
   "execution_count": 1,
   "metadata": {
    "ExecuteTime": {
     "end_time": "2018-09-22T16:17:13.656727Z",
     "start_time": "2018-09-22T16:17:12.527621Z"
    }
   },
   "outputs": [
    {
     "name": "stderr",
     "output_type": "stream",
     "text": [
      "/home/florian/anaconda3/lib/python3.6/site-packages/h5py/__init__.py:36: FutureWarning: Conversion of the second argument of issubdtype from `float` to `np.floating` is deprecated. In future, it will be treated as `np.float64 == np.dtype(float).type`.\n",
      "  from ._conv import register_converters as _register_converters\n"
     ]
    }
   ],
   "source": [
    "%matplotlib inline\n",
    "\n",
    "import numpy as np\n",
    "import tensorflow as tf\n",
    "import matplotlib.pyplot as plt"
   ]
  },
  {
   "cell_type": "code",
   "execution_count": 2,
   "metadata": {
    "ExecuteTime": {
     "end_time": "2018-09-22T16:17:24.802129Z",
     "start_time": "2018-09-22T16:17:13.662032Z"
    }
   },
   "outputs": [
    {
     "name": "stdout",
     "output_type": "stream",
     "text": [
      "WARNING:tensorflow:From <ipython-input-2-8c515496db61>:2: read_data_sets (from tensorflow.contrib.learn.python.learn.datasets.mnist) is deprecated and will be removed in a future version.\n",
      "Instructions for updating:\n",
      "Please use alternatives such as official/mnist/dataset.py from tensorflow/models.\n",
      "WARNING:tensorflow:From /home/florian/anaconda3/lib/python3.6/site-packages/tensorflow/contrib/learn/python/learn/datasets/mnist.py:260: maybe_download (from tensorflow.contrib.learn.python.learn.datasets.base) is deprecated and will be removed in a future version.\n",
      "Instructions for updating:\n",
      "Please write your own downloading logic.\n",
      "WARNING:tensorflow:From /home/florian/anaconda3/lib/python3.6/site-packages/tensorflow/contrib/learn/python/learn/datasets/base.py:252: _internal_retry.<locals>.wrap.<locals>.wrapped_fn (from tensorflow.contrib.learn.python.learn.datasets.base) is deprecated and will be removed in a future version.\n",
      "Instructions for updating:\n",
      "Please use urllib or similar directly.\n",
      "Successfully downloaded train-images-idx3-ubyte.gz 9912422 bytes.\n",
      "WARNING:tensorflow:From /home/florian/anaconda3/lib/python3.6/site-packages/tensorflow/contrib/learn/python/learn/datasets/mnist.py:262: extract_images (from tensorflow.contrib.learn.python.learn.datasets.mnist) is deprecated and will be removed in a future version.\n",
      "Instructions for updating:\n",
      "Please use tf.data to implement this functionality.\n",
      "Extracting MNIST_data/train-images-idx3-ubyte.gz\n",
      "Successfully downloaded train-labels-idx1-ubyte.gz 28881 bytes.\n",
      "WARNING:tensorflow:From /home/florian/anaconda3/lib/python3.6/site-packages/tensorflow/contrib/learn/python/learn/datasets/mnist.py:267: extract_labels (from tensorflow.contrib.learn.python.learn.datasets.mnist) is deprecated and will be removed in a future version.\n",
      "Instructions for updating:\n",
      "Please use tf.data to implement this functionality.\n",
      "Extracting MNIST_data/train-labels-idx1-ubyte.gz\n",
      "Successfully downloaded t10k-images-idx3-ubyte.gz 1648877 bytes.\n",
      "Extracting MNIST_data/t10k-images-idx3-ubyte.gz\n",
      "Successfully downloaded t10k-labels-idx1-ubyte.gz 4542 bytes.\n",
      "Extracting MNIST_data/t10k-labels-idx1-ubyte.gz\n",
      "WARNING:tensorflow:From /home/florian/anaconda3/lib/python3.6/site-packages/tensorflow/contrib/learn/python/learn/datasets/mnist.py:290: DataSet.__init__ (from tensorflow.contrib.learn.python.learn.datasets.mnist) is deprecated and will be removed in a future version.\n",
      "Instructions for updating:\n",
      "Please use alternatives such as official/mnist/dataset.py from tensorflow/models.\n"
     ]
    }
   ],
   "source": [
    "from tensorflow.examples.tutorials.mnist import input_data\n",
    "mnist = input_data.read_data_sets('MNIST_data', validation_size=0)"
   ]
  },
  {
   "cell_type": "code",
   "execution_count": 4,
   "metadata": {
    "ExecuteTime": {
     "end_time": "2018-09-22T17:00:48.039340Z",
     "start_time": "2018-09-22T17:00:47.858185Z"
    }
   },
   "outputs": [
    {
     "data": {
      "text/plain": [
       "<matplotlib.image.AxesImage at 0x7f1edba49eb8>"
      ]
     },
     "execution_count": 4,
     "metadata": {},
     "output_type": "execute_result"
    },
    {
     "data": {
      "image/png": "[encoded data removed]",
      "text/plain": [
       "<matplotlib.figure.Figure at 0x7f1edeb272e8>"
      ]
     },
     "metadata": {},
     "output_type": "display_data"
    }
   ],
   "source": [
    "img = mnist.train.images[2]\n",
    "plt.imshow(img.reshape((28, 28)), cmap='Greys_r')"
   ]
  },
  {
   "cell_type": "markdown",
   "metadata": {},
   "source": [
    "## Network Architecture\n",
    "\n",
    "The encoder part of the network will be a typical convolutional pyramid. Each convolutional layer will be followed by a max-pooling layer to reduce the dimensions of the layers. The decoder though might be something new to you. The decoder needs to convert from a narrow representation to a wide reconstructed image. For example, the representation could be a 4x4x8 max-pool layer. This is the output of the encoder, but also the input to the decoder. We want to get a 28x28x1 image out from the decoder so we need to work our way back up from the narrow decoder input layer. A schematic of the network is shown below.\n",
    "\n",
    "<img src='assets/convolutional_autoencoder.png' width=500px>\n",
    "\n",
    "Here our final encoder layer has size 4x4x8 = 128. The original images have size 28x28 = 784, so the encoded vector is roughly 16% the size of the original image. These are just suggested sizes for each of the layers. Feel free to change the depths and sizes, but remember our goal here is to find a small representation of the input data.\n",
    "\n",
    "### What's going on with the decoder\n",
    "\n",
    "Okay, so the decoder has these \"Upsample\" layers that you might not have seen before. First off, I'll discuss a bit what these layers *aren't*. Usually, you'll see **transposed convolution** layers used to increase the width and height of the layers. They work almost exactly the same as convolutional layers, but in reverse. A stride in the input layer results in a larger stride in the transposed convolution layer. For example, if you have a 3x3 kernel, a 3x3 patch in the input layer will be reduced to one unit in a convolutional layer. Comparatively, one unit in the input layer will be expanded to a 3x3 path in a transposed convolution layer. The TensorFlow API provides us with an easy way to create the layers, [`tf.nn.conv2d_transpose`](https://www.tensorflow.org/api_docs/python/tf/nn/conv2d_transpose). \n",
    "\n",
    "However, transposed convolution layers can lead to artifacts in the final images, such as checkerboard patterns. This is due to overlap in the kernels which can be avoided by setting the stride and kernel size equal. In [this Distill article](http://distill.pub/2016/deconv-checkerboard/) from Augustus Odena, *et al*, the authors show that these checkerboard artifacts can be avoided by resizing the layers using nearest neighbor or bilinear interpolation (upsampling) followed by a convolutional layer. In TensorFlow, this is easily done with [`tf.image.resize_images`](https://www.tensorflow.org/versions/r1.1/api_docs/python/tf/image/resize_images), followed by a convolution. Be sure to read the Distill article to get a better understanding of deconvolutional layers and why we're using upsampling.\n",
    "\n",
    "> **Exercise:** Build the network shown above. Remember that a convolutional layer with strides of 1 and 'same' padding won't reduce the height and width. That is, if the input is 28x28 and the convolution layer has stride = 1 and 'same' padding, the convolutional layer will also be 28x28. The max-pool layers are used the reduce the width and height. A stride of 2 will reduce the size by a factor of 2. Odena *et al* claim that nearest neighbor interpolation works best for the upsampling, so make sure to include that as a parameter in `tf.image.resize_images` or use [`tf.image.resize_nearest_neighbor`]( `https://www.tensorflow.org/api_docs/python/tf/image/resize_nearest_neighbor). For convolutional layers, use [`tf.layers.conv2d`](https://www.tensorflow.org/api_docs/python/tf/layers/conv2d). For example, you would write `conv1 = tf.layers.conv2d(inputs, 32, (5,5), padding='same', activation=tf.nn.relu)` for a layer with a depth of 32, a 5x5 kernel, stride of (1,1), padding is 'same', and a ReLU activation. Similarly, for the max-pool layers, use [`tf.layers.max_pooling2d`](https://www.tensorflow.org/api_docs/python/tf/layers/max_pooling2d)."
   ]
  },
  {
   "cell_type": "code",
   "execution_count": null,
   "metadata": {
    "collapsed": true
   },
   "outputs": [],
   "source": [
    "# TO DO: look at the provided soultions which is cleaner as it uses tf.layers.conv2d"
   ]
  },
  {
   "cell_type": "code",
   "execution_count": 30,
   "metadata": {
    "ExecuteTime": {
     "end_time": "2018-09-23T10:03:44.106209Z",
     "start_time": "2018-09-23T10:03:43.765798Z"
    }
   },
   "outputs": [],
   "source": [
    "tf.reset_default_graph()\n",
    "learning_rate = 0.001\n",
    "# Input and target placeholders\n",
    "inputs_ = tf.placeholder(tf.float32,\n",
    "                         [None, 28, 28, 1]) # [batch, in_height, in_width, in_channels\n",
    "targets_ = inputs_\n",
    "\n",
    "### Encoder\n",
    "filter1 = tf.get_variable('weights_conv1',\n",
    "                          [3, 3, 1, 16], # [filter_height, filter_width, in_channels, out_channels]\n",
    "                          initializer=tf.truncated_normal_initializer(stddev=5e-2, dtype=tf.float32),\n",
    "                          dtype=tf.float32)\n",
    "conv1 = tf.nn.relu(tf.nn.conv2d(input=inputs_,\n",
    "                                filter=filter1,\n",
    "                                strides=[1, 1, 1, 1],\n",
    "                                padding='SAME'))\n",
    "# Now 28x28x16\n",
    "maxpool1 = tf.layers.max_pooling2d(inputs=conv1,\n",
    "                                   pool_size=[2, 2],\n",
    "                                   strides=[2, 2],\n",
    "                                   padding='SAME')\n",
    "# Now 14x14x16\n",
    "filter2 = tf.get_variable('weights_conv2',\n",
    "                          [3, 3, 16, 8],\n",
    "                          initializer=tf.truncated_normal_initializer(stddev=5e-2, dtype=tf.float32),\n",
    "                          dtype=tf.float32)\n",
    "conv2 = tf.nn.relu(tf.nn.conv2d(input=maxpool1,\n",
    "                                filter=filter2,\n",
    "                                strides=[1, 1, 1, 1],\n",
    "                                padding='SAME'))\n",
    "# Now 14x14x8\n",
    "maxpool2 = tf.layers.max_pooling2d(inputs=conv2,\n",
    "                                   pool_size=[2, 2],\n",
    "                                   strides=[2, 2],\n",
    "                                   padding='SAME')\n",
    "# Now 7x7x8\n",
    "filter3 = tf.get_variable('weights_conv3',\n",
    "                          [3, 3, 8, 8],\n",
    "                          initializer=tf.truncated_normal_initializer(stddev=5e-2, dtype=tf.float32),\n",
    "                          dtype=tf.float32)\n",
    "conv3 = tf.nn.relu(tf.nn.conv2d(input=maxpool2,\n",
    "                                filter=filter3,\n",
    "                                strides=[1, 1, 1, 1],\n",
    "                                padding='SAME'))\n",
    "# Now 7x7x8\n",
    "encoded = tf.layers.max_pooling2d(inputs=conv3,\n",
    "                                  pool_size=[2, 2],\n",
    "                                  strides=[2, 2],\n",
    "                                  padding='SAME')\n",
    "# Now 4x4x8\n",
    "\n",
    "### Decoder\n",
    "upsample1 = tf.image.resize_nearest_neighbor(encoded,\n",
    "                                             size=[7, 7])\n",
    "# Now 7x7x8\n",
    "filter4 = tf.get_variable('weights_conv4',\n",
    "                          [3, 3, 8, 8],\n",
    "                          initializer=tf.truncated_normal_initializer(stddev=5e-2, dtype=tf.float32),\n",
    "                          dtype=tf.float32)\n",
    "conv4 = tf.nn.relu(tf.nn.conv2d(input=upsample1,\n",
    "                                filter=filter4,\n",
    "                                strides=[1, 1, 1, 1],\n",
    "                                padding='SAME'))\n",
    "# Now 7x7x8\n",
    "upsample2 = tf.image.resize_nearest_neighbor(conv4,\n",
    "                                             size=[14, 14])\n",
    "# Now 14x14x8\n",
    "filter5 = tf.get_variable('weights_conv5',\n",
    "                          [3, 3, 8, 8],\n",
    "                          initializer=tf.truncated_normal_initializer(stddev=5e-2, dtype=tf.float32),\n",
    "                          dtype=tf.float32)\n",
    "conv5 = tf.nn.relu(tf.nn.conv2d(input=upsample2,\n",
    "                                filter=filter5,\n",
    "                                strides=[1, 1, 1, 1],\n",
    "                                padding='SAME'))\n",
    "# Now 14x14x8\n",
    "upsample3 = tf.image.resize_nearest_neighbor(conv4,\n",
    "                                             size=[28, 28])\n",
    "# Now 28x28x8\n",
    "filter6 = tf.get_variable('weights_conv6',\n",
    "                          [3, 3, 8, 16],\n",
    "                          initializer=tf.truncated_normal_initializer(stddev=5e-2, dtype=tf.float32),\n",
    "                          dtype=tf.float32)\n",
    "conv6 = tf.nn.relu(tf.nn.conv2d(input=upsample3,\n",
    "                                filter=filter6,\n",
    "                                strides=[1, 1, 1, 1],\n",
    "                                padding='SAME'))\n",
    "# Now 28x28x16\n",
    "filter7 = tf.get_variable('weights_conv7',\n",
    "                          [3, 3, 16, 1],\n",
    "                          initializer=tf.truncated_normal_initializer(stddev=5e-2, dtype=tf.float32),\n",
    "                          dtype=tf.float32)\n",
    "logits = tf.nn.conv2d(input=conv6,\n",
    "                      filter=filter7,\n",
    "                      strides=[1, 1, 1, 1],\n",
    "                      padding='SAME')\n",
    "#Now 28x28x1\n",
    "\n",
    "# Pass logits through sigmoid to get reconstructed image\n",
    "decoded = tf.nn.sigmoid(logits)\n",
    "\n",
    "# Pass logits through sigmoid and calculate the cross-entropy loss\n",
    "loss = tf.nn.sigmoid_cross_entropy_with_logits(logits=logits,\n",
    "                                               labels=targets_)\n",
    "\n",
    "\n",
    "# Get cost and define the optimizer\n",
    "cost = tf.reduce_mean(loss)\n",
    "opt = tf.train.AdamOptimizer(learning_rate).minimize(cost)"
   ]
  },
  {
   "cell_type": "markdown",
   "metadata": {},
   "source": [
    "## Training\n",
    "\n",
    "As before, here we'll train the network. Instead of flattening the images though, we can pass them in as 28x28x1 arrays."
   ]
  },
  {
   "cell_type": "code",
   "execution_count": 31,
   "metadata": {
    "ExecuteTime": {
     "end_time": "2018-09-23T10:03:46.014846Z",
     "start_time": "2018-09-23T10:03:46.011183Z"
    }
   },
   "outputs": [],
   "source": [
    "sess = tf.Session()"
   ]
  },
  {
   "cell_type": "code",
   "execution_count": 32,
   "metadata": {
    "ExecuteTime": {
     "end_time": "2018-09-23T10:15:37.237039Z",
     "start_time": "2018-09-23T10:03:47.237994Z"
    },
    "scrolled": true
   },
   "outputs": [
    {
     "name": "stdout",
     "output_type": "stream",
     "text": [
      "Epoch: 1/20, Batch 300/300 | Training loss: 0.1759\n",
      "Epoch: 2/20, Batch 300/300 | Training loss: 0.1468\n",
      "Epoch: 3/20, Batch 300/300 | Training loss: 0.1305\n",
      "Epoch: 4/20, Batch 300/300 | Training loss: 0.1225\n",
      "Epoch: 5/20, Batch 300/300 | Training loss: 0.1147\n",
      "Epoch: 6/20, Batch 300/300 | Training loss: 0.1141\n",
      "Epoch: 7/20, Batch 300/300 | Training loss: 0.1133\n",
      "Epoch: 8/20, Batch 300/300 | Training loss: 0.1128\n",
      "Epoch: 9/20, Batch 300/300 | Training loss: 0.1162\n",
      "Epoch: 10/20, Batch 300/300 | Training loss: 0.1079\n",
      "Epoch: 11/20, Batch 300/300 | Training loss: 0.1075\n",
      "Epoch: 12/20, Batch 300/300 | Training loss: 0.1135\n",
      "Epoch: 13/20, Batch 300/300 | Training loss: 0.1073\n",
      "Epoch: 14/20, Batch 300/300 | Training loss: 0.1031\n",
      "Epoch: 15/20, Batch 300/300 | Training loss: 0.1068\n",
      "Epoch: 16/20, Batch 300/300 | Training loss: 0.1079\n",
      "Epoch: 17/20, Batch 300/300 | Training loss: 0.1072\n",
      "Epoch: 18/20, Batch 300/300 | Training loss: 0.1037Training loss: 0.1051\n",
      "Epoch: 19/20, Batch 300/300 | Training loss: 0.1022\n",
      "Epoch: 20/20, Batch 300/300 | Training loss: 0.1053\n"
     ]
    }
   ],
   "source": [
    "epochs = 20\n",
    "batch_size = 200\n",
    "sess.run(tf.global_variables_initializer())\n",
    "for e in range(epochs):\n",
    "    for ii in range(mnist.train.num_examples//batch_size):\n",
    "        batch = mnist.train.next_batch(batch_size)\n",
    "        imgs = batch[0].reshape((-1, 28, 28, 1))\n",
    "        batch_cost, _ = sess.run([cost, opt], feed_dict={inputs_: imgs,\n",
    "                                                         targets_: imgs})\n",
    "\n",
    "#         print(\"Epoch: {}/{}...\".format(e+1, epochs),\n",
    "#               \"Training loss: {:.4f}\".format(batch_cost))\n",
    "        print(\"Epoch: {}/{}, Batch {:>3}/{:>3} |\".format(e+1, epochs, ii + 1, mnist.train.num_examples//batch_size),\n",
    "              \"Training loss: {:.4f}\".format(batch_cost), end=\"\\r\")\n",
    "    print(\"\")"
   ]
  },
  {
   "cell_type": "code",
   "execution_count": 33,
   "metadata": {
    "ExecuteTime": {
     "end_time": "2018-09-23T10:16:42.615054Z",
     "start_time": "2018-09-23T10:16:41.977819Z"
    }
   },
   "outputs": [
    {
     "data": {
      "image/png": "[encoded data removed]",
      "text/plain": [
       "<matplotlib.figure.Figure at 0x7f1ec7ddf9e8>"
      ]
     },
     "metadata": {},
     "output_type": "display_data"
    }
   ],
   "source": [
    "fig, axes = plt.subplots(nrows=2, ncols=10, sharex=True, sharey=True, figsize=(20,4))\n",
    "in_imgs = mnist.test.images[:10]\n",
    "reconstructed = sess.run(decoded, feed_dict={inputs_: in_imgs.reshape((10, 28, 28, 1))})\n",
    "\n",
    "for images, row in zip([in_imgs, reconstructed], axes):\n",
    "    for img, ax in zip(images, row):\n",
    "        ax.imshow(img.reshape((28, 28)), cmap='Greys_r')\n",
    "        ax.get_xaxis().set_visible(False)\n",
    "        ax.get_yaxis().set_visible(False)\n",
    "\n",
    "\n",
    "fig.tight_layout(pad=0.1)"
   ]
  },
  {
   "cell_type": "code",
   "execution_count": 34,
   "metadata": {
    "ExecuteTime": {
     "end_time": "2018-09-23T10:16:47.032710Z",
     "start_time": "2018-09-23T10:16:47.028317Z"
    }
   },
   "outputs": [],
   "source": [
    "sess.close()"
   ]
  },
  {
   "cell_type": "markdown",
   "metadata": {},
   "source": [
    "## Denoising\n",
    "\n",
    "As I've mentioned before, autoencoders like the ones you've built so far aren't too useful in practive. However, they can be used to denoise images quite successfully just by training the network on noisy images. We can create the noisy images ourselves by adding Gaussian noise to the training images, then clipping the values to be between 0 and 1. We'll use noisy images as input and the original, clean images as targets. Here's an example of the noisy images I generated and the denoised images.\n",
    "\n",
    "![Denoising autoencoder](assets/denoising.png)\n",
    "\n",
    "\n",
    "Since this is a harder problem for the network, we'll want to use deeper convolutional layers here, more feature maps. I suggest something like 32-32-16 for the depths of the convolutional layers in the encoder, and the same depths going backward through the decoder. Otherwise the architecture is the same as before.\n",
    "\n",
    "> **Exercise:** Build the network for the denoising autoencoder. It's the same as before, but with deeper layers. I suggest 32-32-16 for the depths, but you can play with these numbers, or add more layers."
   ]
  },
  {
   "cell_type": "code",
   "execution_count": 35,
   "metadata": {
    "ExecuteTime": {
     "end_time": "2018-09-23T10:16:51.763331Z",
     "start_time": "2018-09-23T10:16:51.760746Z"
    }
   },
   "outputs": [],
   "source": [
    "# TO DO: look at the provided soultions which is cleaner as it uses tf.layers.conv2d"
   ]
  },
  {
   "cell_type": "code",
   "execution_count": 40,
   "metadata": {
    "ExecuteTime": {
     "end_time": "2018-09-23T10:18:40.826303Z",
     "start_time": "2018-09-23T10:18:40.586725Z"
    }
   },
   "outputs": [],
   "source": [
    "tf.reset_default_graph()\n",
    "learning_rate = 0.001\n",
    "inputs_ = tf.placeholder(tf.float32, (None, 28, 28, 1), name='inputs')\n",
    "targets_ = tf.placeholder(tf.float32, (None, 28, 28, 1), name='targets')\n",
    "\n",
    "### Encoder\n",
    "filter1 = tf.get_variable('weights_conv1',\n",
    "                          [3, 3, 1, 32], # [filter_height, filter_width, in_channels, out_channels]\n",
    "                          initializer=tf.truncated_normal_initializer(stddev=5e-2, dtype=tf.float32),\n",
    "                          dtype=tf.float32)\n",
    "conv1 = tf.nn.relu(tf.nn.conv2d(input=inputs_,\n",
    "                                filter=filter1,\n",
    "                                strides=[1, 1, 1, 1],\n",
    "                                padding='SAME'))\n",
    "# Now 28x28x32\n",
    "maxpool1 = tf.layers.max_pooling2d(inputs=conv1,\n",
    "                                   pool_size=[2, 2],\n",
    "                                   strides=[2, 2],\n",
    "                                   padding='SAME')\n",
    "# Now 14x14x32\n",
    "filter2 = tf.get_variable('weights_conv2',\n",
    "                          [3, 3, 32, 32],\n",
    "                          initializer=tf.truncated_normal_initializer(stddev=5e-2, dtype=tf.float32),\n",
    "                          dtype=tf.float32)\n",
    "conv2 = tf.nn.relu(tf.nn.conv2d(input=maxpool1,\n",
    "                                filter=filter2,\n",
    "                                strides=[1, 1, 1, 1],\n",
    "                                padding='SAME'))\n",
    "# Now 14x14x32\n",
    "maxpool2 = tf.layers.max_pooling2d(inputs=conv2,\n",
    "                                   pool_size=[2, 2],\n",
    "                                   strides=[2, 2],\n",
    "                                   padding='SAME')\n",
    "# Now 7x7x32\n",
    "filter3 = tf.get_variable('weights_conv3',\n",
    "                          [3, 3, 32, 16],\n",
    "                          initializer=tf.truncated_normal_initializer(stddev=5e-2, dtype=tf.float32),\n",
    "                          dtype=tf.float32)\n",
    "conv3 = tf.nn.relu(tf.nn.conv2d(input=maxpool2,\n",
    "                                filter=filter3,\n",
    "                                strides=[1, 1, 1, 1],\n",
    "                                padding='SAME'))\n",
    "# Now 7x7x16\n",
    "encoded = tf.layers.max_pooling2d(inputs=conv3,\n",
    "                                  pool_size=[2, 2],\n",
    "                                  strides=[2, 2],\n",
    "                                  padding='SAME')\n",
    "# Now 4x4x16\n",
    "\n",
    "### Decoder\n",
    "upsample1 = tf.image.resize_nearest_neighbor(encoded,\n",
    "                                             size=[7, 7])\n",
    "# Now 7x7x16\n",
    "filter4 = tf.get_variable('weights_conv4',\n",
    "                          [3, 3, 16, 16],\n",
    "                          initializer=tf.truncated_normal_initializer(stddev=5e-2, dtype=tf.float32),\n",
    "                          dtype=tf.float32)\n",
    "conv4 = tf.nn.relu(tf.nn.conv2d(input=upsample1,\n",
    "                                filter=filter4,\n",
    "                                strides=[1, 1, 1, 1],\n",
    "                                padding='SAME'))\n",
    "# Now 7x7x16\n",
    "upsample2 = tf.image.resize_nearest_neighbor(encoded,\n",
    "                                             size=[14, 14])\n",
    "\n",
    "# Now 14x14x16\n",
    "filter5 = tf.get_variable('weights_conv5',\n",
    "                          [3, 3, 16, 32],\n",
    "                          initializer=tf.truncated_normal_initializer(stddev=5e-2, dtype=tf.float32),\n",
    "                          dtype=tf.float32)\n",
    "conv5 = tf.nn.relu(tf.nn.conv2d(input=upsample2,\n",
    "                                filter=filter5,\n",
    "                                strides=[1, 1, 1, 1],\n",
    "                                padding='SAME'))\n",
    "# Now 14x14x32\n",
    "upsample3 = tf.image.resize_nearest_neighbor(conv5,\n",
    "                                             size=[28, 28])\n",
    "# Now 28x28x32\n",
    "filter6 = tf.get_variable('weights_conv6',\n",
    "                          [3, 3, 32, 32],\n",
    "                          initializer=tf.truncated_normal_initializer(stddev=5e-2, dtype=tf.float32),\n",
    "                          dtype=tf.float32)\n",
    "conv6 = tf.nn.relu(tf.nn.conv2d(input=upsample3,\n",
    "                                filter=filter6,\n",
    "                                strides=[1, 1, 1, 1],\n",
    "                                padding='SAME'))\n",
    "# Now 28x28x32\n",
    "filter7 = tf.get_variable('weights_conv7',\n",
    "                          [3, 3, 32, 1],\n",
    "                          initializer=tf.truncated_normal_initializer(stddev=5e-2, dtype=tf.float32),\n",
    "                          dtype=tf.float32)\n",
    "\n",
    "logits = tf.nn.conv2d(input=conv6,\n",
    "                      filter=filter7,\n",
    "                      strides=[1, 1, 1, 1],\n",
    "                      padding='SAME')\n",
    "\n",
    "#Now 28x28x1\n",
    "\n",
    "# Pass logits through sigmoid to get reconstructed image\n",
    "decoded = tf.nn.sigmoid(logits)\n",
    "\n",
    "# Pass logits through sigmoid and calculate the cross-entropy loss\n",
    "loss = tf.nn.sigmoid_cross_entropy_with_logits(logits=logits,\n",
    "                                               labels=targets_)\n",
    "\n",
    "# Get cost and define the optimizer\n",
    "cost = tf.reduce_mean(loss)\n",
    "opt = tf.train.AdamOptimizer(learning_rate).minimize(cost)"
   ]
  },
  {
   "cell_type": "code",
   "execution_count": 41,
   "metadata": {
    "ExecuteTime": {
     "end_time": "2018-09-23T10:18:41.893326Z",
     "start_time": "2018-09-23T10:18:41.888428Z"
    }
   },
   "outputs": [],
   "source": [
    "sess = tf.Session()"
   ]
  },
  {
   "cell_type": "code",
   "execution_count": 43,
   "metadata": {
    "ExecuteTime": {
     "end_time": "2018-09-23T15:29:03.191330Z",
     "start_time": "2018-09-23T10:19:16.518588Z"
    }
   },
   "outputs": [
    {
     "name": "stdout",
     "output_type": "stream",
     "text": [
      "Epoch: 1/100, Batch 300/300 | Training loss: 0.1886\n",
      "Epoch: 2/100, Batch 300/300 | Training loss: 0.1577\n",
      "Epoch: 3/100, Batch 300/300 | Training loss: 0.1480\n",
      "Epoch: 4/100, Batch 300/300 | Training loss: 0.1448\n",
      "Epoch: 5/100, Batch 300/300 | Training loss: 0.1387\n",
      "Epoch: 6/100, Batch 300/300 | Training loss: 0.1303\n",
      "Epoch: 7/100, Batch 300/300 | Training loss: 0.1292\n",
      "Epoch: 8/100, Batch 300/300 | Training loss: 0.1259\n",
      "Epoch: 9/100, Batch 300/300 | Training loss: 0.1305\n",
      "Epoch: 10/100, Batch 300/300 | Training loss: 0.1246\n",
      "Epoch: 11/100, Batch 300/300 | Training loss: 0.1195\n",
      "Epoch: 12/100, Batch 300/300 | Training loss: 0.1212\n",
      "Epoch: 13/100, Batch 300/300 | Training loss: 0.1254\n",
      "Epoch: 14/100, Batch 300/300 | Training loss: 0.1209\n",
      "Epoch: 15/100, Batch 300/300 | Training loss: 0.1263\n",
      "Epoch: 16/100, Batch 300/300 | Training loss: 0.1205\n",
      "Epoch: 17/100, Batch 300/300 | Training loss: 0.1195\n",
      "Epoch: 18/100, Batch 300/300 | Training loss: 0.1159\n",
      "Epoch: 19/100, Batch 300/300 | Training loss: 0.1222\n",
      "Epoch: 20/100, Batch 300/300 | Training loss: 0.1168\n",
      "Epoch: 21/100, Batch 300/300 | Training loss: 0.1179\n",
      "Epoch: 22/100, Batch 300/300 | Training loss: 0.1133\n",
      "Epoch: 23/100, Batch 300/300 | Training loss: 0.1191\n",
      "Epoch: 24/100, Batch 300/300 | Training loss: 0.1199\n",
      "Epoch: 25/100, Batch 300/300 | Training loss: 0.1176\n",
      "Epoch: 26/100, Batch 300/300 | Training loss: 0.1170\n",
      "Epoch: 27/100, Batch 300/300 | Training loss: 0.1176\n",
      "Epoch: 28/100, Batch 300/300 | Training loss: 0.1093\n",
      "Epoch: 29/100, Batch 300/300 | Training loss: 0.1153\n",
      "Epoch: 30/100, Batch 300/300 | Training loss: 0.1172\n",
      "Epoch: 31/100, Batch 300/300 | Training loss: 0.1121\n",
      "Epoch: 32/100, Batch 300/300 | Training loss: 0.1132\n",
      "Epoch: 33/100, Batch 300/300 | Training loss: 0.1123\n",
      "Epoch: 34/100, Batch 300/300 | Training loss: 0.1127\n",
      "Epoch: 35/100, Batch 300/300 | Training loss: 0.1095\n",
      "Epoch: 36/100, Batch 300/300 | Training loss: 0.1164\n",
      "Epoch: 37/100, Batch 300/300 | Training loss: 0.1131\n",
      "Epoch: 38/100, Batch 300/300 | Training loss: 0.1149\n",
      "Epoch: 39/100, Batch 300/300 | Training loss: 0.1173\n",
      "Epoch: 40/100, Batch 300/300 | Training loss: 0.1105\n",
      "Epoch: 41/100, Batch 300/300 | Training loss: 0.1077\n",
      "Epoch: 42/100, Batch 300/300 | Training loss: 0.1120\n",
      "Epoch: 43/100, Batch 300/300 | Training loss: 0.1126\n",
      "Epoch: 44/100, Batch 300/300 | Training loss: 0.1132\n",
      "Epoch: 45/100, Batch 300/300 | Training loss: 0.1115\n",
      "Epoch: 46/100, Batch 300/300 | Training loss: 0.1159\n",
      "Epoch: 47/100, Batch 300/300 | Training loss: 0.1112\n",
      "Epoch: 48/100, Batch 300/300 | Training loss: 0.1091\n",
      "Epoch: 49/100, Batch 300/300 | Training loss: 0.1110\n",
      "Epoch: 50/100, Batch 300/300 | Training loss: 0.1120\n",
      "Epoch: 51/100, Batch 300/300 | Training loss: 0.1150\n",
      "Epoch: 52/100, Batch 300/300 | Training loss: 0.1086\n",
      "Epoch: 53/100, Batch 300/300 | Training loss: 0.1120\n",
      "Epoch: 54/100, Batch 300/300 | Training loss: 0.1106\n",
      "Epoch: 55/100, Batch 300/300 | Training loss: 0.1158\n",
      "Epoch: 56/100, Batch 300/300 | Training loss: 0.1125\n",
      "Epoch: 57/100, Batch 300/300 | Training loss: 0.1101\n",
      "Epoch: 58/100, Batch 300/300 | Training loss: 0.1095\n",
      "Epoch: 59/100, Batch 300/300 | Training loss: 0.1114\n",
      "Epoch: 60/100, Batch 300/300 | Training loss: 0.1149\n",
      "Epoch: 61/100, Batch 300/300 | Training loss: 0.1066\n",
      "Epoch: 62/100, Batch 300/300 | Training loss: 0.1109\n",
      "Epoch: 63/100, Batch 300/300 | Training loss: 0.1083\n",
      "Epoch: 64/100, Batch 300/300 | Training loss: 0.1069\n",
      "Epoch: 65/100, Batch 300/300 | Training loss: 0.1109\n",
      "Epoch: 66/100, Batch 300/300 | Training loss: 0.1114\n",
      "Epoch: 67/100, Batch 300/300 | Training loss: 0.1106\n",
      "Epoch: 68/100, Batch 300/300 | Training loss: 0.1121\n",
      "Epoch: 69/100, Batch 300/300 | Training loss: 0.1113\n",
      "Epoch: 70/100, Batch 300/300 | Training loss: 0.1135\n",
      "Epoch: 71/100, Batch 300/300 | Training loss: 0.1073\n",
      "Epoch: 72/100, Batch 300/300 | Training loss: 0.1084\n",
      "Epoch: 73/100, Batch 300/300 | Training loss: 0.1116\n",
      "Epoch: 74/100, Batch 300/300 | Training loss: 0.1077\n",
      "Epoch: 75/100, Batch 300/300 | Training loss: 0.1083\n",
      "Epoch: 76/100, Batch 300/300 | Training loss: 0.1086\n",
      "Epoch: 77/100, Batch 300/300 | Training loss: 0.1087\n",
      "Epoch: 78/100, Batch 300/300 | Training loss: 0.1087\n",
      "Epoch: 79/100, Batch 300/300 | Training loss: 0.1096\n",
      "Epoch: 80/100, Batch 300/300 | Training loss: 0.1091\n",
      "Epoch: 81/100, Batch 300/300 | Training loss: 0.1094\n",
      "Epoch: 82/100, Batch 300/300 | Training loss: 0.1103\n",
      "Epoch: 83/100, Batch 300/300 | Training loss: 0.1088\n",
      "Epoch: 84/100, Batch 300/300 | Training loss: 0.1062\n",
      "Epoch: 85/100, Batch 300/300 | Training loss: 0.1093\n",
      "Epoch: 86/100, Batch 300/300 | Training loss: 0.1126\n",
      "Epoch: 87/100, Batch 300/300 | Training loss: 0.1081\n",
      "Epoch: 88/100, Batch 300/300 | Training loss: 0.1091\n",
      "Epoch: 89/100, Batch 300/300 | Training loss: 0.1089\n",
      "Epoch: 90/100, Batch 300/300 | Training loss: 0.1105\n",
      "Epoch: 91/100, Batch 300/300 | Training loss: 0.1078\n",
      "Epoch: 92/100, Batch 300/300 | Training loss: 0.1104\n",
      "Epoch: 93/100, Batch 300/300 | Training loss: 0.1094\n",
      "Epoch: 94/100, Batch 300/300 | Training loss: 0.1074\n",
      "Epoch: 95/100, Batch 300/300 | Training loss: 0.1102\n",
      "Epoch: 96/100, Batch 300/300 | Training loss: 0.1083\n",
      "Epoch: 97/100, Batch 300/300 | Training loss: 0.1081\n",
      "Epoch: 98/100, Batch 300/300 | Training loss: 0.1103\n",
      "Epoch: 99/100, Batch 300/300 | Training loss: 0.1060\n",
      "Epoch: 100/100, Batch 300/300 | Training loss: 0.1085\n"
     ]
    }
   ],
   "source": [
    "epochs = 20 # 100 # (long to run)\n",
    "batch_size = 200\n",
    "# Set's how much noise we're adding to the MNIST images\n",
    "noise_factor = 0.5\n",
    "sess.run(tf.global_variables_initializer())\n",
    "for e in range(epochs):\n",
    "    for ii in range(mnist.train.num_examples//batch_size):\n",
    "        batch = mnist.train.next_batch(batch_size)\n",
    "        # Get images from the batch\n",
    "        imgs = batch[0].reshape((-1, 28, 28, 1))\n",
    "        \n",
    "        # Add random noise to the input images\n",
    "        noisy_imgs = imgs + noise_factor * np.random.randn(*imgs.shape)\n",
    "        # Clip the images to be between 0 and 1\n",
    "        noisy_imgs = np.clip(noisy_imgs, 0., 1.)\n",
    "        \n",
    "        # Noisy images as inputs, original images as targets\n",
    "        batch_cost, _ = sess.run([cost, opt], feed_dict={inputs_: noisy_imgs,\n",
    "                                                         targets_: imgs})\n",
    "\n",
    "#         print(\"Epoch: {}/{}...\".format(e+1, epochs),\n",
    "#               \"Training loss: {:.4f}\".format(batch_cost))\n",
    "        print(\"Epoch: {}/{}, Batch {:>3}/{:>3} |\".format(e+1, epochs, ii + 1, mnist.train.num_examples//batch_size),\n",
    "              \"Training loss: {:.4f}\".format(batch_cost), end=\"\\r\")\n",
    "    print(\"\")"
   ]
  },
  {
   "cell_type": "markdown",
   "metadata": {},
   "source": [
    "## Checking out the performance\n",
    "\n",
    "Here I'm adding noise to the test images and passing them through the autoencoder. It does a suprisingly great job of removing the noise, even though it's sometimes difficult to tell what the original number is."
   ]
  },
  {
   "cell_type": "code",
   "execution_count": 44,
   "metadata": {
    "ExecuteTime": {
     "end_time": "2018-09-23T15:29:04.453407Z",
     "start_time": "2018-09-23T15:29:03.304907Z"
    }
   },
   "outputs": [
    {
     "data": {
      "image/png": "[encoded data removed]",
      "text/plain": [
       "<matplotlib.figure.Figure at 0x7f1d9d6c10b8>"
      ]
     },
     "metadata": {},
     "output_type": "display_data"
    }
   ],
   "source": [
    "fig, axes = plt.subplots(nrows=2, ncols=10, sharex=True, sharey=True, figsize=(20,4))\n",
    "in_imgs = mnist.test.images[:10]\n",
    "noisy_imgs = in_imgs + noise_factor * np.random.randn(*in_imgs.shape)\n",
    "noisy_imgs = np.clip(noisy_imgs, 0., 1.)\n",
    "\n",
    "reconstructed = sess.run(decoded, feed_dict={inputs_: noisy_imgs.reshape((10, 28, 28, 1))})\n",
    "\n",
    "for images, row in zip([noisy_imgs, reconstructed], axes):\n",
    "    for img, ax in zip(images, row):\n",
    "        ax.imshow(img.reshape((28, 28)), cmap='Greys_r')\n",
    "        ax.get_xaxis().set_visible(False)\n",
    "        ax.get_yaxis().set_visible(False)\n",
    "\n",
    "fig.tight_layout(pad=0.1)"
   ]
  }
 ],
 "metadata": {
  "kernelspec": {
   "display_name": "Python 3",
   "language": "python",
   "name": "python3"
  },
  "language_info": {
   "codemirror_mode": {
    "name": "ipython",
    "version": 3
   },
   "file_extension": ".py",
   "mimetype": "text/x-python",
   "name": "python",
   "nbconvert_exporter": "python",
   "pygments_lexer": "ipython3",
   "version": "3.6.4"
  },
  "varInspector": {
   "cols": {
    "lenName": 16,
    "lenType": 16,
    "lenVar": 40
   },
   "kernels_config": {
    "python": {
     "delete_cmd_postfix": "",
     "delete_cmd_prefix": "del ",
     "library": "var_list.py",
     "varRefreshCmd": "print(var_dic_list())"
    },
    "r": {
     "delete_cmd_postfix": ") ",
     "delete_cmd_prefix": "rm(",
     "library": "var_list.r",
     "varRefreshCmd": "cat(var_dic_list()) "
    }
   },
   "types_to_exclude": [
    "module",
    "function",
    "builtin_function_or_method",
    "instance",
    "_Feature"
   ],
   "window_display": false
  }
 },
 "nbformat": 4,
 "nbformat_minor": 2
}
