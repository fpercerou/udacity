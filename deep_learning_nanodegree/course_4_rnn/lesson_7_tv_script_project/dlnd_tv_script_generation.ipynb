{
 "cells": [
  {
   "cell_type": "markdown",
   "metadata": {},
   "source": [
    "# TV Script Generation\n",
    "In this project, you'll generate your own [Simpsons](https://en.wikipedia.org/wiki/The_Simpsons) TV scripts using RNNs.  You'll be using part of the [Simpsons dataset](https://www.kaggle.com/wcukierski/the-simpsons-by-the-data) of scripts from 27 seasons.  The Neural Network you'll build will generate a new TV script for a scene at [Moe's Tavern](https://simpsonswiki.com/wiki/Moe's_Tavern).\n",
    "## Get the Data\n",
    "The data is already provided for you.  You'll be using a subset of the original dataset.  It consists of only the scenes in Moe's Tavern.  This doesn't include other versions of the tavern, like \"Moe's Cavern\", \"Flaming Moe's\", \"Uncle Moe's Family Feed-Bag\", etc.."
   ]
  },
  {
   "cell_type": "code",
   "execution_count": 1,
   "metadata": {
    "ExecuteTime": {
     "end_time": "2018-10-03T16:34:09.350950Z",
     "start_time": "2018-10-03T16:34:09.338688Z"
    }
   },
   "outputs": [],
   "source": [
    "\"\"\"\n",
    "DON'T MODIFY ANYTHING IN THIS CELL\n",
    "\"\"\"\n",
    "import helper\n",
    "\n",
    "data_dir = './data/simpsons/moes_tavern_lines.txt'\n",
    "text = helper.load_data(data_dir)\n",
    "# Ignore notice, since we don't use it for analysing the data\n",
    "text = text[81:]"
   ]
  },
  {
   "cell_type": "markdown",
   "metadata": {},
   "source": [
    "## Explore the Data\n",
    "Play around with `view_sentence_range` to view different parts of the data."
   ]
  },
  {
   "cell_type": "code",
   "execution_count": 2,
   "metadata": {
    "ExecuteTime": {
     "end_time": "2018-10-03T16:34:09.385492Z",
     "start_time": "2018-10-03T16:34:09.356369Z"
    }
   },
   "outputs": [
    {
     "name": "stdout",
     "output_type": "stream",
     "text": [
      "Dataset Stats\n",
      "Roughly the number of unique words: 11492\n",
      "Number of scenes: 262\n",
      "Average number of sentences in each scene: 15.248091603053435\n",
      "Number of lines: 4257\n",
      "Average number of words in each line: 11.50434578341555\n",
      "\n",
      "The sentences 0 to 10:\n",
      "Moe_Szyslak: (INTO PHONE) Moe's Tavern. Where the elite meet to drink.\n",
      "Bart_Simpson: Eh, yeah, hello, is Mike there? Last name, Rotch.\n",
      "Moe_Szyslak: (INTO PHONE) Hold on, I'll check. (TO BARFLIES) Mike Rotch. Mike Rotch. Hey, has anybody seen Mike Rotch, lately?\n",
      "Moe_Szyslak: (INTO PHONE) Listen you little puke. One of these days I'm gonna catch you, and I'm gonna carve my name on your back with an ice pick.\n",
      "Moe_Szyslak: What's the matter Homer? You're not your normal effervescent self.\n",
      "Homer_Simpson: I got my problems, Moe. Give me another one.\n",
      "Moe_Szyslak: Homer, hey, you should not drink to forget your problems.\n",
      "Barney_Gumble: Yeah, you should only drink to enhance your social skills.\n",
      "\n",
      "\n"
     ]
    }
   ],
   "source": [
    "view_sentence_range = (0, 10)\n",
    "\n",
    "\"\"\"\n",
    "DON'T MODIFY ANYTHING IN THIS CELL\n",
    "\"\"\"\n",
    "import numpy as np\n",
    "\n",
    "print('Dataset Stats')\n",
    "print('Roughly the number of unique words: {}'.format(len({word: None for word in text.split()})))\n",
    "scenes = text.split('\\n\\n')\n",
    "print('Number of scenes: {}'.format(len(scenes)))\n",
    "sentence_count_scene = [scene.count('\\n') for scene in scenes]\n",
    "print('Average number of sentences in each scene: {}'.format(np.average(sentence_count_scene)))\n",
    "\n",
    "sentences = [sentence for scene in scenes for sentence in scene.split('\\n')]\n",
    "print('Number of lines: {}'.format(len(sentences)))\n",
    "word_count_sentence = [len(sentence.split()) for sentence in sentences]\n",
    "print('Average number of words in each line: {}'.format(np.average(word_count_sentence)))\n",
    "\n",
    "print()\n",
    "print('The sentences {} to {}:'.format(*view_sentence_range))\n",
    "print('\\n'.join(text.split('\\n')[view_sentence_range[0]:view_sentence_range[1]]))"
   ]
  },
  {
   "cell_type": "markdown",
   "metadata": {},
   "source": [
    "## Implement Preprocessing Functions\n",
    "The first thing to do to any dataset is preprocessing.  Implement the following preprocessing functions below:\n",
    "- Lookup Table\n",
    "- Tokenize Punctuation\n",
    "\n",
    "### Lookup Table\n",
    "To create a word embedding, you first need to transform the words to ids.  In this function, create two dictionaries:\n",
    "- Dictionary to go from the words to an id, we'll call `vocab_to_int`\n",
    "- Dictionary to go from the id to word, we'll call `int_to_vocab`\n",
    "\n",
    "Return these dictionaries in the following tuple `(vocab_to_int, int_to_vocab)`"
   ]
  },
  {
   "cell_type": "code",
   "execution_count": 3,
   "metadata": {
    "ExecuteTime": {
     "end_time": "2018-10-03T16:34:13.049590Z",
     "start_time": "2018-10-03T16:34:09.387249Z"
    }
   },
   "outputs": [
    {
     "name": "stdout",
     "output_type": "stream",
     "text": [
      "Tests Passed\n"
     ]
    }
   ],
   "source": [
    "import numpy as np\n",
    "import problem_unittests as tests\n",
    "from collections import Counter\n",
    "\n",
    "def create_lookup_tables(text):\n",
    "    \"\"\"\n",
    "    Create lookup tables for vocabulary\n",
    "    :param text: The text of tv scripts split into words\n",
    "    :return: A tuple of dicts (vocab_to_int, int_to_vocab)\n",
    "    \"\"\"\n",
    "    word_counts = Counter(text)\n",
    "    sorted_vocab = sorted(word_counts, key=word_counts.get, reverse=True)\n",
    "    int_to_vocab = {ii: word for ii, word in enumerate(sorted_vocab)}\n",
    "    vocab_to_int = {word: ii for ii, word in int_to_vocab.items()}\n",
    "    return vocab_to_int, int_to_vocab\n",
    "\n",
    "\n",
    "\"\"\"\n",
    "DON'T MODIFY ANYTHING IN THIS CELL THAT IS BELOW THIS LINE\n",
    "\"\"\"\n",
    "tests.test_create_lookup_tables(create_lookup_tables)"
   ]
  },
  {
   "cell_type": "markdown",
   "metadata": {},
   "source": [
    "### Tokenize Punctuation\n",
    "We'll be splitting the script into a word array using spaces as delimiters.  However, punctuations like periods and exclamation marks make it hard for the neural network to distinguish between the word \"bye\" and \"bye!\".\n",
    "\n",
    "Implement the function `token_lookup` to return a dict that will be used to tokenize symbols like \"!\" into \"||Exclamation_Mark||\".  Create a dictionary for the following symbols where the symbol is the key and value is the token:\n",
    "- Period ( . )\n",
    "- Comma ( , )\n",
    "- Quotation Mark ( \" )\n",
    "- Semicolon ( ; )\n",
    "- Exclamation mark ( ! )\n",
    "- Question mark ( ? )\n",
    "- Left Parentheses ( ( )\n",
    "- Right Parentheses ( ) )\n",
    "- Dash ( -- )\n",
    "- Return ( \\n )\n",
    "\n",
    "This dictionary will be used to token the symbols and add the delimiter (space) around it.  This separates the symbols as it's own word, making it easier for the neural network to predict on the next word. Make sure you don't use a token that could be confused as a word. Instead of using the token \"dash\", try using something like \"||dash||\"."
   ]
  },
  {
   "cell_type": "code",
   "execution_count": 4,
   "metadata": {
    "ExecuteTime": {
     "end_time": "2018-10-03T16:34:13.055251Z",
     "start_time": "2018-10-03T16:34:13.050954Z"
    }
   },
   "outputs": [
    {
     "name": "stdout",
     "output_type": "stream",
     "text": [
      "Tests Passed\n"
     ]
    }
   ],
   "source": [
    "def token_lookup():\n",
    "    \"\"\"\n",
    "    Generate a dict to turn punctuation into a token.\n",
    "    :return: Tokenize dictionary where the key is the punctuation and the value is the token\n",
    "    \"\"\"\n",
    "    # TODO: Implement Function\n",
    "    ponct_dict = {\"Period\": '.',\n",
    "                  \"Comma\": \",\",\n",
    "                  \"Quotation_Mark\": '\"',\n",
    "                  \"Semicolon\": ';',\n",
    "                  \"Exclamation_mark\": \"!\",\n",
    "                  \"Question_mark\": \"?\",\n",
    "                  \"Left_Parentheses\": \"(\",\n",
    "                  \"Right_Parentheses\":\")\",\n",
    "                  \"Dash\": \"--\",\n",
    "                  \"Return\": \"\\n\"}\n",
    "    return {v: k for k, v in ponct_dict.items()}\n",
    "\n",
    "\"\"\"\n",
    "DON'T MODIFY ANYTHING IN THIS CELL THAT IS BELOW THIS LINE\n",
    "\"\"\"\n",
    "tests.test_tokenize(token_lookup)"
   ]
  },
  {
   "cell_type": "markdown",
   "metadata": {},
   "source": [
    "## Preprocess all the data and save it\n",
    "Running the code cell below will preprocess all the data and save it to file."
   ]
  },
  {
   "cell_type": "code",
   "execution_count": 5,
   "metadata": {
    "ExecuteTime": {
     "end_time": "2018-10-03T16:34:13.095158Z",
     "start_time": "2018-10-03T16:34:13.056668Z"
    }
   },
   "outputs": [],
   "source": [
    "\"\"\"\n",
    "DON'T MODIFY ANYTHING IN THIS CELL\n",
    "\"\"\"\n",
    "# Preprocess Training, Validation, and Testing Data\n",
    "helper.preprocess_and_save_data(data_dir, token_lookup, create_lookup_tables)"
   ]
  },
  {
   "cell_type": "markdown",
   "metadata": {},
   "source": [
    "# Check Point\n",
    "This is your first checkpoint. If you ever decide to come back to this notebook or have to restart the notebook, you can start from here. The preprocessed data has been saved to disk."
   ]
  },
  {
   "cell_type": "code",
   "execution_count": 6,
   "metadata": {
    "ExecuteTime": {
     "end_time": "2018-10-03T16:34:13.107119Z",
     "start_time": "2018-10-03T16:34:13.097932Z"
    }
   },
   "outputs": [],
   "source": [
    "\"\"\"\n",
    "DON'T MODIFY ANYTHING IN THIS CELL\n",
    "\"\"\"\n",
    "import helper\n",
    "import numpy as np\n",
    "import problem_unittests as tests\n",
    "\n",
    "int_text, vocab_to_int, int_to_vocab, token_dict = helper.load_preprocess()"
   ]
  },
  {
   "cell_type": "markdown",
   "metadata": {},
   "source": [
    "## Build the Neural Network\n",
    "You'll build the components necessary to build a RNN by implementing the following functions below:\n",
    "- get_inputs\n",
    "- get_init_cell\n",
    "- get_embed\n",
    "- build_rnn\n",
    "- build_nn\n",
    "- get_batches\n",
    "\n",
    "### Check the Version of TensorFlow and Access to GPU"
   ]
  },
  {
   "cell_type": "code",
   "execution_count": 7,
   "metadata": {
    "ExecuteTime": {
     "end_time": "2018-10-03T16:34:13.116199Z",
     "start_time": "2018-10-03T16:34:13.109905Z"
    }
   },
   "outputs": [
    {
     "name": "stdout",
     "output_type": "stream",
     "text": [
      "TensorFlow Version: 1.3.0\n",
      "Default GPU Device: /gpu:0\n"
     ]
    }
   ],
   "source": [
    "\"\"\"\n",
    "DON'T MODIFY ANYTHING IN THIS CELL\n",
    "\"\"\"\n",
    "from distutils.version import LooseVersion\n",
    "import warnings\n",
    "import tensorflow as tf\n",
    "\n",
    "# Check TensorFlow Version\n",
    "assert LooseVersion(tf.__version__) >= LooseVersion('1.3'), 'Please use TensorFlow version 1.3 or newer'\n",
    "print('TensorFlow Version: {}'.format(tf.__version__))\n",
    "\n",
    "# Check for a GPU\n",
    "if not tf.test.gpu_device_name():\n",
    "    warnings.warn('No GPU found. Please use a GPU to train your neural network.')\n",
    "else:\n",
    "    print('Default GPU Device: {}'.format(tf.test.gpu_device_name()))"
   ]
  },
  {
   "cell_type": "markdown",
   "metadata": {},
   "source": [
    "### Input\n",
    "Implement the `get_inputs()` function to create TF Placeholders for the Neural Network.  It should create the following placeholders:\n",
    "- Input text placeholder named \"input\" using the [TF Placeholder](https://www.tensorflow.org/api_docs/python/tf/placeholder) `name` parameter.\n",
    "- Targets placeholder\n",
    "- Learning Rate placeholder\n",
    "\n",
    "Return the placeholders in the following tuple `(Input, Targets, LearningRate)`"
   ]
  },
  {
   "cell_type": "code",
   "execution_count": 8,
   "metadata": {
    "ExecuteTime": {
     "end_time": "2018-10-03T16:34:13.128600Z",
     "start_time": "2018-10-03T16:34:13.118349Z"
    }
   },
   "outputs": [
    {
     "name": "stdout",
     "output_type": "stream",
     "text": [
      "Tests Passed\n"
     ]
    }
   ],
   "source": [
    "def get_inputs():\n",
    "    \"\"\"\n",
    "    Create TF Placeholders for input, targets, and learning rate.\n",
    "    :return: Tuple (input, targets, learning rate)\n",
    "    \"\"\"\n",
    "    inputs = tf.placeholder(tf.int32, shape=([None, None]), name='input')\n",
    "    targets = tf.placeholder(tf.int32, shape=([None, None]), name='targets')\n",
    "    learning = tf.placeholder(tf.float32, name='learning')\n",
    "    return inputs, targets, learning\n",
    "\n",
    "\n",
    "\"\"\"\n",
    "DON'T MODIFY ANYTHING IN THIS CELL THAT IS BELOW THIS LINE\n",
    "\"\"\"\n",
    "tests.test_get_inputs(get_inputs)"
   ]
  },
  {
   "cell_type": "markdown",
   "metadata": {},
   "source": [
    "### Build RNN Cell and Initialize\n",
    "Stack one or more [`BasicLSTMCells`](https://www.tensorflow.org/api_docs/python/tf/contrib/rnn/BasicLSTMCell) in a [`MultiRNNCell`](https://www.tensorflow.org/api_docs/python/tf/contrib/rnn/MultiRNNCell).\n",
    "- The Rnn size should be set using `rnn_size`\n",
    "- Initalize Cell State using the MultiRNNCell's [`zero_state()`](https://www.tensorflow.org/api_docs/python/tf/contrib/rnn/MultiRNNCell#zero_state) function\n",
    "    - Apply the name \"initial_state\" to the initial state using [`tf.identity()`](https://www.tensorflow.org/api_docs/python/tf/identity)\n",
    "\n",
    "Return the cell and initial state in the following tuple `(Cell, InitialState)`"
   ]
  },
  {
   "cell_type": "code",
   "execution_count": 9,
   "metadata": {
    "ExecuteTime": {
     "end_time": "2018-10-03T16:34:15.944805Z",
     "start_time": "2018-10-03T16:34:13.131123Z"
    }
   },
   "outputs": [
    {
     "name": "stdout",
     "output_type": "stream",
     "text": [
      "Tests Passed\n"
     ]
    }
   ],
   "source": [
    "def get_init_cell(batch_size, rnn_size, num_layers=1):\n",
    "    \"\"\"\n",
    "    Create an RNN Cell and initialize it.\n",
    "    :param batch_size: Size of batches\n",
    "    :param rnn_size: Size of RNNs\n",
    "    :return: Tuple (cell, initialize state)\n",
    "    \"\"\"\n",
    "    # TODO: Implement Function\n",
    "    \n",
    "    def build_cell(lstm_size):\n",
    "        basic_cell = tf.nn.rnn_cell.BasicLSTMCell(lstm_size)\n",
    "        return basic_cell\n",
    "    \n",
    "    multi_rnn_cell = tf.contrib.rnn.MultiRNNCell([build_cell(rnn_size)\n",
    "                                                  for _ in range(num_layers)])\n",
    "    \n",
    "    initiate_state = tf.identity(multi_rnn_cell.zero_state(batch_size, tf.float32),\n",
    "                                 name='initial_state')\n",
    "    return multi_rnn_cell, initiate_state\n",
    "\n",
    "\n",
    "\"\"\"\n",
    "DON'T MODIFY ANYTHING IN THIS CELL THAT IS BELOW THIS LINE\n",
    "\"\"\"\n",
    "tests.test_get_init_cell(get_init_cell)"
   ]
  },
  {
   "cell_type": "markdown",
   "metadata": {},
   "source": [
    "### Word Embedding\n",
    "Apply embedding to `input_data` using TensorFlow.  Return the embedded sequence."
   ]
  },
  {
   "cell_type": "code",
   "execution_count": 10,
   "metadata": {
    "ExecuteTime": {
     "end_time": "2018-10-03T16:34:15.961375Z",
     "start_time": "2018-10-03T16:34:15.946415Z"
    }
   },
   "outputs": [
    {
     "name": "stdout",
     "output_type": "stream",
     "text": [
      "Tests Passed\n"
     ]
    }
   ],
   "source": [
    "def get_embed(input_data, vocab_size, embed_dim):\n",
    "    \"\"\"\n",
    "    Create embedding for <input_data>.\n",
    "    :param input_data: TF placeholder for text input.\n",
    "    :param vocab_size: Number of words in vocabulary.\n",
    "    :param embed_dim: Number of embedding dimensions\n",
    "    :return: Embedded input.\n",
    "    \"\"\"\n",
    "    # TODO: Implement Function\n",
    "    embedding = tf.Variable(tf.truncated_normal(shape = [vocab_size, embed_dim],\n",
    "                                                 mean=0.0,\n",
    "                                                 stddev=0.1),\n",
    "                            name='embedding_matrix')\n",
    "    embed = tf.nn.embedding_lookup(params=embedding,\n",
    "                                   ids=input_data)\n",
    "\n",
    "    # Notes:\n",
    "    # Alternatively one could also return \n",
    "    # tf.contrib.layers.embed_sequence(input_data, vocab_size, embed_dim).\n",
    "    # One can read more about this function\n",
    "    # here: https://www.tensorflow.org/api_docs/python/tf/contrib/layers/embed_sequence\n",
    "    return embed\n",
    "\n",
    "\n",
    "\"\"\"\n",
    "DON'T MODIFY ANYTHING IN THIS CELL THAT IS BELOW THIS LINE\n",
    "\"\"\"\n",
    "tests.test_get_embed(get_embed)"
   ]
  },
  {
   "cell_type": "markdown",
   "metadata": {},
   "source": [
    "### Build RNN\n",
    "You created a RNN Cell in the `get_init_cell()` function.  Time to use the cell to create a RNN.\n",
    "- Build the RNN using the [`tf.nn.dynamic_rnn()`](https://www.tensorflow.org/api_docs/python/tf/nn/dynamic_rnn)\n",
    " - Apply the name \"final_state\" to the final state using [`tf.identity()`](https://www.tensorflow.org/api_docs/python/tf/identity)\n",
    "\n",
    "Return the outputs and final_state state in the following tuple `(Outputs, FinalState)` "
   ]
  },
  {
   "cell_type": "code",
   "execution_count": 11,
   "metadata": {
    "ExecuteTime": {
     "end_time": "2018-10-03T16:34:16.440378Z",
     "start_time": "2018-10-03T16:34:15.963058Z"
    }
   },
   "outputs": [
    {
     "name": "stdout",
     "output_type": "stream",
     "text": [
      "Tests Passed\n"
     ]
    }
   ],
   "source": [
    "def build_rnn(cell, inputs):\n",
    "    \"\"\"\n",
    "    Create a RNN using a RNN Cell\n",
    "    :param cell: RNN Cell\n",
    "    :param inputs: Input text data\n",
    "    :return: Tuple (Outputs, Final State)\n",
    "    \"\"\"\n",
    "    # TODO: Implement Function\n",
    "    outputs, final_state = tf.nn.dynamic_rnn(cell, inputs, dtype=tf.float32)\n",
    "    return outputs,  tf.identity(final_state, name='final_state')\n",
    "\n",
    "\n",
    "\"\"\"\n",
    "DON'T MODIFY ANYTHING IN THIS CELL THAT IS BELOW THIS LINE\n",
    "\"\"\"\n",
    "tests.test_build_rnn(build_rnn)"
   ]
  },
  {
   "cell_type": "markdown",
   "metadata": {},
   "source": [
    "### Build the Neural Network\n",
    "Apply the functions you implemented above to:\n",
    "- Apply embedding to `input_data` using your `get_embed(input_data, vocab_size, embed_dim)` function.\n",
    "- Build RNN using `cell` and your `build_rnn(cell, inputs)` function.\n",
    "- Apply a fully connected layer with a linear activation and `vocab_size` as the number of outputs.\n",
    "\n",
    "Return the logits and final state in the following tuple (Logits, FinalState) "
   ]
  },
  {
   "cell_type": "code",
   "execution_count": 12,
   "metadata": {
    "ExecuteTime": {
     "end_time": "2018-10-03T16:55:04.684869Z",
     "start_time": "2018-10-03T16:55:04.458751Z"
    }
   },
   "outputs": [
    {
     "name": "stdout",
     "output_type": "stream",
     "text": [
      "Tests Passed\n"
     ]
    }
   ],
   "source": [
    "def build_nn(cell, rnn_size, input_data, vocab_size, embed_dim):\n",
    "    \"\"\"\n",
    "    Build part of the neural network\n",
    "    :param cell: RNN cell /!\\\\ not used /!\\\\\n",
    "    :param rnn_size: Size of rnns\n",
    "    :param input_data: Input data\n",
    "    :param vocab_size: Vocabulary size\n",
    "    :param embed_dim: Number of embedding dimensions\n",
    "    :return: Tuple (Logits, FinalState)\n",
    "    \"\"\"\n",
    "    # TODO: Implement Function\n",
    "    embed = get_embed(input_data, vocab_size, embed_dim)\n",
    "    outputs, final_state = build_rnn(cell, embed)\n",
    "    \n",
    "    logits = tf.contrib.layers.fully_connected(outputs,\n",
    "                                               vocab_size,\n",
    "                                               activation_fn=None # we dont want a relu for the last layer\n",
    "                                              )\n",
    "    \n",
    "    return logits, final_state\n",
    "\n",
    "\n",
    "\"\"\"\n",
    "DON'T MODIFY ANYTHING IN THIS CELL THAT IS BELOW THIS LINE\n",
    "\"\"\"\n",
    "tests.test_build_nn(build_nn)"
   ]
  },
  {
   "cell_type": "markdown",
   "metadata": {},
   "source": [
    "### Batches\n",
    "Implement `get_batches` to create batches of input and targets using `int_text`.  The batches should be a Numpy array with the shape `(number of batches, 2, batch size, sequence length)`. Each batch contains two elements:\n",
    "- The first element is a single batch of **input** with the shape `[batch size, sequence length]`\n",
    "- The second element is a single batch of **targets** with the shape `[batch size, sequence length]`\n",
    "\n",
    "If you can't fill the last batch with enough data, drop the last batch.\n",
    "\n",
    "For example, `get_batches([1, 2, 3, 4, 5, 6, 7, 8, 9, 10, 11, 12, 13, 14, 15, 16, 17, 18, 19, 20], 3, 2)` would return a Numpy array of the following:\n",
    "```\n",
    "[\n",
    "  # First Batch\n",
    "  [\n",
    "    # Batch of Input\n",
    "    [[ 1  2], [ 7  8], [13 14]]\n",
    "    # Batch of targets\n",
    "    [[ 2  3], [ 8  9], [14 15]]\n",
    "  ]\n",
    "\n",
    "  # Second Batch\n",
    "  [\n",
    "    # Batch of Input\n",
    "    [[ 3  4], [ 9 10], [15 16]]\n",
    "    # Batch of targets\n",
    "    [[ 4  5], [10 11], [16 17]]\n",
    "  ]\n",
    "\n",
    "  # Third Batch\n",
    "  [\n",
    "    # Batch of Input\n",
    "    [[ 5  6], [11 12], [17 18]]\n",
    "    # Batch of targets\n",
    "    [[ 6  7], [12 13], [18  1]]\n",
    "  ]\n",
    "]\n",
    "```\n",
    "\n",
    "Notice that the last target value in the last batch is the first input value of the first batch. In this case, `1`. This is a common technique used when creating sequence batches, although it is rather unintuitive."
   ]
  },
  {
   "cell_type": "code",
   "execution_count": 13,
   "metadata": {
    "ExecuteTime": {
     "end_time": "2018-10-03T16:54:19.477383Z",
     "start_time": "2018-10-03T16:54:19.458955Z"
    }
   },
   "outputs": [
    {
     "name": "stdout",
     "output_type": "stream",
     "text": [
      "Tests Passed\n"
     ]
    }
   ],
   "source": [
    "def get_batches(int_text, nb_batches, seq_length):\n",
    "    \"\"\"\n",
    "    Return batches of input and target\n",
    "    :param int_text: Text with the words replaced by their ids\n",
    "    :param nb_batches: The size of batch\n",
    "    :param seq_length: The length of sequence\n",
    "    :return: Batches as a Numpy array\n",
    "    \"\"\"\n",
    "    # TODO: Implement Function\n",
    "    lenght = len(int_text)\n",
    "    nb_element_per_batch =  (lenght // (seq_length * nb_batches)) * seq_length\n",
    "    max_index = nb_element_per_batch * nb_batches\n",
    "    batch_size = max_index // (nb_batches * seq_length)\n",
    "\n",
    "    int_text_shifted = [int_text[(i+1) % max_index] for i, x in enumerate(int_text[:max_index])]\n",
    "    int_text = int_text[:(max_index)]\n",
    "\n",
    "    batch_id = [i % nb_element_per_batch // seq_length for i in range(lenght)]\n",
    "    # id_in_batch = [i % nb_element_per_batch % seq_length for i in range(lenght)]\n",
    "    \n",
    "    itermediate_list = [[x for i, x in enumerate(int_text) if batch_id[i] == k]\n",
    "                        for k in range(batch_size)]\n",
    "    itermediate_list_shifted = [[x for i, x in enumerate(int_text_shifted) if batch_id[i] == k] for k in range(batch_size)]\n",
    "    \n",
    "    return np.array([np.array([[x[n:n+seq_length] for n in range(0, len(x), seq_length)],\n",
    "                               [itermediate_list_shifted[i][n:n+seq_length] for n in range(0, len(itermediate_list_shifted[i]), seq_length)]])\n",
    "             for i, x in enumerate(itermediate_list)])\n",
    "\n",
    "get_batches(list(range(1, 21)),\n",
    "            3, 2)\n",
    "\n",
    "\"\"\"\n",
    "DON'T MODIFY ANYTHING IN THIS CELL THAT IS BELOW THIS LINE\n",
    "\"\"\"\n",
    "tests.test_get_batches(get_batches)"
   ]
  },
  {
   "cell_type": "markdown",
   "metadata": {
    "ExecuteTime": {
     "end_time": "2018-10-03T16:54:19.477383Z",
     "start_time": "2018-10-03T16:54:19.458955Z"
    }
   },
   "source": [
    "## Neural Network Training\n",
    "### Hyperparameters\n",
    "Tune the following parameters:\n",
    "\n",
    "- Set `num_epochs` to the number of epochs.\n",
    "- Set `batch_size` to the batch size.\n",
    "- Set `rnn_size` to the size of the RNNs.\n",
    "- Set `embed_dim` to the size of the embedding.\n",
    "- Set `seq_length` to the length of sequence.\n",
    "- Set `learning_rate` to the learning rate.\n",
    "- Set `show_every_n_batches` to the number of batches the neural network should print progress."
   ]
  },
  {
   "cell_type": "code",
   "execution_count": 34,
   "metadata": {},
   "outputs": [],
   "source": [
    "# Number of Epochs\n",
    "num_epochs = 100\n",
    "# Batch Size\n",
    "batch_size = 128 # should normally be chosen in the sizes of 128, 256, 512\n",
    "# RNN Size\n",
    "rnn_size = 200\n",
    "# Embedding Dimension Size\n",
    "embed_dim = 200\n",
    "# Sequence Length\n",
    "seq_length = 5 # size of the sentence we want to generate\n",
    "# Learning Rate\n",
    "learning_rate = 0.005\n",
    "# Show stats for every n number of batches\n",
    "show_every_n_batches = 10\n",
    "# num layers in rnn (addition of fp):\n",
    "num_layers = 1\n",
    "\n",
    "\"\"\"\n",
    "DON'T MODIFY ANYTHING IN THIS CELL THAT IS BELOW THIS LINE\n",
    "\"\"\"\n",
    "save_dir = './save'"
   ]
  },
  {
   "cell_type": "markdown",
   "metadata": {},
   "source": [
    "### Build the Graph\n",
    "Build the graph using the neural network you implemented."
   ]
  },
  {
   "cell_type": "code",
   "execution_count": 35,
   "metadata": {},
   "outputs": [],
   "source": [
    "\"\"\"\n",
    "DON'T MODIFY ANYTHING IN THIS CELL\n",
    "\"\"\"\n",
    "from tensorflow.contrib import seq2seq\n",
    "\n",
    "train_graph = tf.Graph()\n",
    "with train_graph.as_default():\n",
    "    vocab_size = len(int_to_vocab)\n",
    "    input_text, targets, lr = get_inputs()\n",
    "    input_data_shape = tf.shape(input_text)\n",
    "    cell, initial_state = get_init_cell(input_data_shape[0], rnn_size, num_layers=num_layers)\n",
    "    logits, final_state = build_nn(cell, rnn_size, input_text, vocab_size, embed_dim)\n",
    "\n",
    "    # Probabilities for generating words\n",
    "    probs = tf.nn.softmax(logits, name='probs')\n",
    "\n",
    "    # Loss function\n",
    "    cost = seq2seq.sequence_loss(\n",
    "        logits,\n",
    "        targets,\n",
    "        tf.ones([input_data_shape[0], input_data_shape[1]]))\n",
    "\n",
    "    # Optimizer\n",
    "    optimizer = tf.train.AdamOptimizer(lr)\n",
    "\n",
    "    # Gradient Clipping\n",
    "    gradients = optimizer.compute_gradients(cost)\n",
    "    capped_gradients = [(tf.clip_by_value(grad, -1., 1.), var) for grad, var in gradients if grad is not None]\n",
    "    train_op = optimizer.apply_gradients(capped_gradients)"
   ]
  },
  {
   "cell_type": "markdown",
   "metadata": {},
   "source": [
    "## Train\n",
    "Train the neural network on the preprocessed data.  If you have a hard time getting a good loss, check the [forums](https://discussions.udacity.com/) to see if anyone is having the same problem."
   ]
  },
  {
   "cell_type": "code",
   "execution_count": 36,
   "metadata": {},
   "outputs": [
    {
     "name": "stdout",
     "output_type": "stream",
     "text": [
      "Epoch   0/100 | Batch  101/107 | batch_loss = 5.459 | train_loss = 6.251\n",
      "Epoch   1/100 | Batch  104/107 | batch_loss = 4.972 | train_loss = 5.084\n",
      "Epoch   2/100 | Batch  107/107 | batch_loss = 4.531 | train_loss = 4.692\n",
      "Epoch   3/100 | Batch  100/107 | batch_loss = 4.366 | train_loss = 4.416\n",
      "Epoch   4/100 | Batch  103/107 | batch_loss = 4.094 | train_loss = 4.159\n",
      "Epoch   5/100 | Batch  106/107 | batch_loss = 3.686 | train_loss = 3.918\n",
      "Epoch   6/100 | Batch   99/107 | batch_loss = 3.605 | train_loss = 3.700\n",
      "Epoch   7/100 | Batch  102/107 | batch_loss = 3.416 | train_loss = 3.494\n",
      "Epoch   8/100 | Batch  105/107 | batch_loss = 3.059 | train_loss = 3.281\n",
      "Epoch   9/100 | Batch   98/107 | batch_loss = 3.064 | train_loss = 3.099\n",
      "Epoch  10/100 | Batch  101/107 | batch_loss = 2.881 | train_loss = 2.934\n",
      "Epoch  11/100 | Batch  104/107 | batch_loss = 2.824 | train_loss = 2.791\n",
      "Epoch  12/100 | Batch  107/107 | batch_loss = 2.468 | train_loss = 2.649\n",
      "Epoch  13/100 | Batch  100/107 | batch_loss = 2.500 | train_loss = 2.529\n",
      "Epoch  14/100 | Batch  103/107 | batch_loss = 2.339 | train_loss = 2.396\n",
      "Epoch  15/100 | Batch  106/107 | batch_loss = 2.308 | train_loss = 2.269\n",
      "Epoch  16/100 | Batch   99/107 | batch_loss = 2.135 | train_loss = 2.162\n",
      "Epoch  17/100 | Batch  102/107 | batch_loss = 1.985 | train_loss = 2.054\n",
      "Epoch  18/100 | Batch  105/107 | batch_loss = 1.766 | train_loss = 1.959\n",
      "Epoch  19/100 | Batch   98/107 | batch_loss = 1.898 | train_loss = 1.874\n",
      "Epoch  20/100 | Batch  101/107 | batch_loss = 1.737 | train_loss = 1.802\n",
      "Epoch  21/100 | Batch  104/107 | batch_loss = 1.698 | train_loss = 1.730\n",
      "Epoch  22/100 | Batch  107/107 | batch_loss = 1.533 | train_loss = 1.659\n",
      "Epoch  23/100 | Batch  100/107 | batch_loss = 1.578 | train_loss = 1.590\n",
      "Epoch  24/100 | Batch  103/107 | batch_loss = 1.590 | train_loss = 1.527\n",
      "Epoch  25/100 | Batch  106/107 | batch_loss = 1.526 | train_loss = 1.479\n",
      "Epoch  26/100 | Batch   99/107 | batch_loss = 1.401 | train_loss = 1.430\n",
      "Epoch  27/100 | Batch  102/107 | batch_loss = 1.383 | train_loss = 1.393\n",
      "Epoch  28/100 | Batch  105/107 | batch_loss = 1.228 | train_loss = 1.353\n",
      "Epoch  29/100 | Batch   98/107 | batch_loss = 1.370 | train_loss = 1.321\n",
      "Epoch  30/100 | Batch  101/107 | batch_loss = 1.194 | train_loss = 1.283\n",
      "Epoch  31/100 | Batch  104/107 | batch_loss = 1.261 | train_loss = 1.250\n",
      "Epoch  32/100 | Batch  107/107 | batch_loss = 1.141 | train_loss = 1.220\n",
      "Epoch  33/100 | Batch  100/107 | batch_loss = 1.179 | train_loss = 1.196\n",
      "Epoch  34/100 | Batch  103/107 | batch_loss = 1.248 | train_loss = 1.176\n",
      "Epoch  35/100 | Batch  106/107 | batch_loss = 1.206 | train_loss = 1.159\n",
      "Epoch  36/100 | Batch   99/107 | batch_loss = 1.113 | train_loss = 1.143\n",
      "Epoch  37/100 | Batch  102/107 | batch_loss = 1.086 | train_loss = 1.126\n",
      "Epoch  38/100 | Batch  105/107 | batch_loss = 1.002 | train_loss = 1.111\n",
      "Epoch  39/100 | Batch   98/107 | batch_loss = 1.182 | train_loss = 1.100\n",
      "Epoch  40/100 | Batch  101/107 | batch_loss = 1.010 | train_loss = 1.084\n",
      "Epoch  41/100 | Batch  104/107 | batch_loss = 1.082 | train_loss = 1.074\n",
      "Epoch  42/100 | Batch  107/107 | batch_loss = 0.983 | train_loss = 1.065\n",
      "Epoch  43/100 | Batch  100/107 | batch_loss = 1.034 | train_loss = 1.056\n",
      "Epoch  44/100 | Batch  103/107 | batch_loss = 1.086 | train_loss = 1.045\n",
      "Epoch  45/100 | Batch  106/107 | batch_loss = 1.064 | train_loss = 1.036\n",
      "Epoch  46/100 | Batch   99/107 | batch_loss = 1.020 | train_loss = 1.029\n",
      "Epoch  47/100 | Batch  102/107 | batch_loss = 1.007 | train_loss = 1.021\n",
      "Epoch  48/100 | Batch  105/107 | batch_loss = 0.930 | train_loss = 1.014\n",
      "Epoch  49/100 | Batch   98/107 | batch_loss = 1.075 | train_loss = 1.011\n",
      "Epoch  50/100 | Batch  101/107 | batch_loss = 0.940 | train_loss = 1.005\n",
      "Epoch  51/100 | Batch  104/107 | batch_loss = 0.980 | train_loss = 1.004\n",
      "Epoch  52/100 | Batch  107/107 | batch_loss = 0.881 | train_loss = 0.996\n",
      "Epoch  53/100 | Batch  100/107 | batch_loss = 0.963 | train_loss = 0.999\n",
      "Epoch  54/100 | Batch  103/107 | batch_loss = 1.041 | train_loss = 0.995\n",
      "Epoch  55/100 | Batch  106/107 | batch_loss = 1.007 | train_loss = 0.996\n",
      "Epoch  56/100 | Batch   99/107 | batch_loss = 0.994 | train_loss = 0.990\n",
      "Epoch  57/100 | Batch  102/107 | batch_loss = 0.961 | train_loss = 0.985\n",
      "Epoch  58/100 | Batch  105/107 | batch_loss = 0.915 | train_loss = 0.982\n",
      "Epoch  59/100 | Batch   98/107 | batch_loss = 1.057 | train_loss = 0.980\n",
      "Epoch  60/100 | Batch  101/107 | batch_loss = 0.902 | train_loss = 0.974\n",
      "Epoch  61/100 | Batch  104/107 | batch_loss = 0.944 | train_loss = 0.971\n",
      "Epoch  62/100 | Batch  107/107 | batch_loss = 0.864 | train_loss = 0.966\n",
      "Epoch  63/100 | Batch  100/107 | batch_loss = 0.927 | train_loss = 0.966\n",
      "Epoch  64/100 | Batch  103/107 | batch_loss = 1.023 | train_loss = 0.964\n",
      "Epoch  65/100 | Batch  106/107 | batch_loss = 0.947 | train_loss = 0.957\n",
      "Epoch  66/100 | Batch   99/107 | batch_loss = 0.974 | train_loss = 0.958\n",
      "Epoch  67/100 | Batch  102/107 | batch_loss = 0.955 | train_loss = 0.957\n",
      "Epoch  68/100 | Batch  105/107 | batch_loss = 0.856 | train_loss = 0.956\n",
      "Epoch  69/100 | Batch   98/107 | batch_loss = 1.030 | train_loss = 0.957\n",
      "Epoch  70/100 | Batch  101/107 | batch_loss = 0.896 | train_loss = 0.956\n",
      "Epoch  71/100 | Batch  104/107 | batch_loss = 0.924 | train_loss = 0.958\n",
      "Epoch  72/100 | Batch  107/107 | batch_loss = 0.840 | train_loss = 0.957\n",
      "Epoch  73/100 | Batch  100/107 | batch_loss = 0.939 | train_loss = 0.963\n",
      "Epoch  74/100 | Batch  103/107 | batch_loss = 1.021 | train_loss = 0.964\n",
      "Epoch  75/100 | Batch  106/107 | batch_loss = 0.977 | train_loss = 0.963\n",
      "Epoch  76/100 | Batch   99/107 | batch_loss = 0.982 | train_loss = 0.960\n",
      "Epoch  77/100 | Batch  102/107 | batch_loss = 0.967 | train_loss = 0.960\n",
      "Epoch  78/100 | Batch  105/107 | batch_loss = 0.853 | train_loss = 0.958\n",
      "Epoch  79/100 | Batch   98/107 | batch_loss = 1.038 | train_loss = 0.954\n",
      "Epoch  80/100 | Batch  101/107 | batch_loss = 0.879 | train_loss = 0.946\n",
      "Epoch  81/100 | Batch  104/107 | batch_loss = 0.933 | train_loss = 0.942\n",
      "Epoch  82/100 | Batch  107/107 | batch_loss = 0.829 | train_loss = 0.934\n",
      "Epoch  83/100 | Batch  100/107 | batch_loss = 0.912 | train_loss = 0.930\n",
      "Epoch  84/100 | Batch  103/107 | batch_loss = 0.991 | train_loss = 0.928\n",
      "Epoch  85/100 | Batch  106/107 | batch_loss = 0.924 | train_loss = 0.926\n",
      "Epoch  86/100 | Batch   99/107 | batch_loss = 0.939 | train_loss = 0.926\n",
      "Epoch  87/100 | Batch  102/107 | batch_loss = 0.935 | train_loss = 0.923\n",
      "Epoch  88/100 | Batch  105/107 | batch_loss = 0.837 | train_loss = 0.922\n",
      "Epoch  89/100 | Batch   98/107 | batch_loss = 0.979 | train_loss = 0.926\n",
      "Epoch  90/100 | Batch  101/107 | batch_loss = 0.858 | train_loss = 0.926\n",
      "Epoch  91/100 | Batch  104/107 | batch_loss = 0.914 | train_loss = 0.925\n",
      "Epoch  92/100 | Batch  107/107 | batch_loss = 0.814 | train_loss = 0.919\n",
      "Epoch  93/100 | Batch  100/107 | batch_loss = 0.895 | train_loss = 0.917\n",
      "Epoch  94/100 | Batch  103/107 | batch_loss = 0.970 | train_loss = 0.915\n",
      "Epoch  95/100 | Batch  106/107 | batch_loss = 0.928 | train_loss = 0.911\n",
      "Epoch  96/100 | Batch   99/107 | batch_loss = 0.918 | train_loss = 0.911\n",
      "Epoch  97/100 | Batch  102/107 | batch_loss = 0.921 | train_loss = 0.909\n",
      "Epoch  98/100 | Batch  105/107 | batch_loss = 0.837 | train_loss = 0.907\n",
      "Epoch  99/100 | Batch   98/107 | batch_loss = 0.980 | train_loss = 0.909\n",
      "Model Trained and Saved\n"
     ]
    }
   ],
   "source": [
    "\"\"\"\n",
    "DON'T MODIFY ANYTHING IN THIS CELL\n",
    "\"\"\"\n",
    "batches = get_batches(int_text, batch_size, seq_length)\n",
    "len_batches = len(batches)\n",
    "\n",
    "with tf.Session(graph=train_graph) as sess:\n",
    "    sess.run(tf.global_variables_initializer())\n",
    "\n",
    "    for epoch_i in range(num_epochs):\n",
    "        state = sess.run(initial_state, {input_text: batches[0][0]})\n",
    "        loss_ls = []\n",
    "        for batch_i, (x, y) in enumerate(batches):\n",
    "            feed = {input_text: x,\n",
    "                    targets: y,\n",
    "                    initial_state: state,\n",
    "                    lr: learning_rate}\n",
    "            batch_loss, state, _ = sess.run([cost, final_state, train_op], feed)\n",
    "            loss_ls.append(batch_loss)\n",
    "            train_loss = np.mean(loss_ls)\n",
    "            # Show every <show_every_n_batches> batches\n",
    "            if (((epoch_i * len(batches) + batch_i) % show_every_n_batches == 0)\n",
    "                or (batch_i==len_batches)):\n",
    "                print('Epoch {:>3}/{} | Batch {:>4}/{} | batch_loss = {:.3f} | train_loss = {:.3f}'.format(epoch_i,\n",
    "                                                                                                           num_epochs,\n",
    "                                                                                                           batch_i+1,\n",
    "                                                                                                           len_batches,\n",
    "                                                                                                           batch_loss,\n",
    "                                                                                                           train_loss),\n",
    "                     end='\\r') \n",
    "        print(\"\")\n",
    "\n",
    "    # Save Model\n",
    "    saver = tf.train.Saver()\n",
    "    saver.save(sess, save_dir)\n",
    "    print('Model Trained and Saved')"
   ]
  },
  {
   "cell_type": "markdown",
   "metadata": {},
   "source": [
    "## Save Parameters\n",
    "Save `seq_length` and `save_dir` for generating a new TV script."
   ]
  },
  {
   "cell_type": "code",
   "execution_count": 17,
   "metadata": {},
   "outputs": [],
   "source": [
    "\"\"\"\n",
    "DON'T MODIFY ANYTHING IN THIS CELL\n",
    "\"\"\"\n",
    "# Save parameters for checkpoint\n",
    "helper.save_params((seq_length, save_dir))"
   ]
  },
  {
   "cell_type": "markdown",
   "metadata": {},
   "source": [
    "# Checkpoint"
   ]
  },
  {
   "cell_type": "code",
   "execution_count": 18,
   "metadata": {},
   "outputs": [],
   "source": [
    "\"\"\"\n",
    "DON'T MODIFY ANYTHING IN THIS CELL\n",
    "\"\"\"\n",
    "import tensorflow as tf\n",
    "import numpy as np\n",
    "import helper\n",
    "import problem_unittests as tests\n",
    "\n",
    "_, vocab_to_int, int_to_vocab, token_dict = helper.load_preprocess()\n",
    "seq_length, load_dir = helper.load_params()"
   ]
  },
  {
   "cell_type": "markdown",
   "metadata": {},
   "source": [
    "## Implement Generate Functions\n",
    "### Get Tensors\n",
    "Get tensors from `loaded_graph` using the function [`get_tensor_by_name()`](https://www.tensorflow.org/api_docs/python/tf/Graph#get_tensor_by_name).  Get the tensors using the following names:\n",
    "- \"input:0\"\n",
    "- \"initial_state:0\"\n",
    "- \"final_state:0\"\n",
    "- \"probs:0\"\n",
    "\n",
    "Return the tensors in the following tuple `(InputTensor, InitialStateTensor, FinalStateTensor, ProbsTensor)` "
   ]
  },
  {
   "cell_type": "code",
   "execution_count": 19,
   "metadata": {},
   "outputs": [
    {
     "name": "stdout",
     "output_type": "stream",
     "text": [
      "Tests Passed\n"
     ]
    }
   ],
   "source": [
    "def get_tensors(loaded_graph):\n",
    "    \"\"\"\n",
    "    Get input, initial state, final state, and probabilities tensor from <loaded_graph>\n",
    "    :param loaded_graph: TensorFlow graph loaded from file\n",
    "    :return: Tuple (InputTensor, InitialStateTensor, FinalStateTensor, ProbsTensor)\n",
    "    \"\"\"\n",
    "    # TODO: Implement Function\n",
    "    input_tensor = loaded_graph.get_tensor_by_name(\"input:0\")\n",
    "    initial_state_tensor = loaded_graph.get_tensor_by_name(\"initial_state:0\")\n",
    "    final_state_tensor = loaded_graph.get_tensor_by_name(\"final_state:0\")\n",
    "    probs = loaded_graph.get_tensor_by_name(\"probs:0\")\n",
    "    return input_tensor, initial_state_tensor, final_state_tensor, probs\n",
    "\n",
    "\n",
    "\"\"\"\n",
    "DON'T MODIFY ANYTHING IN THIS CELL THAT IS BELOW THIS LINE\n",
    "\"\"\"\n",
    "tests.test_get_tensors(get_tensors)"
   ]
  },
  {
   "cell_type": "markdown",
   "metadata": {},
   "source": [
    "### Choose Word\n",
    "Implement the `pick_word()` function to select the next word using `probabilities`."
   ]
  },
  {
   "cell_type": "code",
   "execution_count": 20,
   "metadata": {},
   "outputs": [
    {
     "name": "stdout",
     "output_type": "stream",
     "text": [
      "Tests Passed\n"
     ]
    }
   ],
   "source": [
    "def pick_word(probabilities, int_to_vocab):\n",
    "    \"\"\"\n",
    "    Pick the next word in the generated text\n",
    "    :param probabilities: Probabilites of the next word\n",
    "    :param int_to_vocab: Dictionary of word ids as the keys and words as the values\n",
    "    :return: String of the predicted word\n",
    "    \"\"\"\n",
    "    # TODO: Implement Function\n",
    "    from numpy.random import choice\n",
    "    draw = choice([i for i, _ in enumerate(probabilities)],\n",
    "                  1,\n",
    "                  p=probabilities)[0]\n",
    "    return int_to_vocab[draw] \n",
    "\n",
    "\n",
    "\"\"\"\n",
    "DON'T MODIFY ANYTHING IN THIS CELL THAT IS BELOW THIS LINE\n",
    "\"\"\"\n",
    "tests.test_pick_word(pick_word)"
   ]
  },
  {
   "cell_type": "markdown",
   "metadata": {},
   "source": [
    "## Generate TV Script\n",
    "This will generate the TV script for you.  Set `gen_length` to the length of TV script you want to generate."
   ]
  },
  {
   "cell_type": "code",
   "execution_count": 21,
   "metadata": {},
   "outputs": [
    {
     "name": "stdout",
     "output_type": "stream",
     "text": [
      "INFO:tensorflow:Restoring parameters from ./save\n",
      "moe_szyslak: you kid. a?\n",
      "homer_simpson: not(nods off the prayer for in it: if!(sobs) oh, and the tv's japanese bar hand 'em are before?\n",
      "moe_szyslak: shove it up about you can't better.\n",
      "lenny_leonard:?\n",
      "lenny_leonard: your boy's unusual there noises you those stickers, it takes, lenny, but got aged fifteen any results much sure, boxing might make two p.\n",
      "kent_brockman: this has broken me, you're just think listened in my drunk, thanks, he nuked on he could) what and on an operation. hey. free beer got a new air your, sir.\n",
      "louie:. uh in world, if you keep bit last night at, uh / i haven't seen. as it! get with off?\n",
      "moe_szyslak: 'cause you let?\n",
      "homer_simpson: spied out an explanation! weak already did goin' something, i'll blow.(art birthday clips) oh, lenny, kid laugh about good laugh at her brother how wasted.\n",
      "\n",
      "moe_szyslak: oh, excuse me advice than your ideas oh\n"
     ]
    }
   ],
   "source": [
    "gen_length = 200\n",
    "# homer_simpson, moe_szyslak, or Barney_Gumble\n",
    "prime_word = 'moe_szyslak'\n",
    "\n",
    "\"\"\"\n",
    "DON'T MODIFY ANYTHING IN THIS CELL THAT IS BELOW THIS LINE\n",
    "\"\"\"\n",
    "loaded_graph = tf.Graph()\n",
    "with tf.Session(graph=loaded_graph) as sess:\n",
    "    # Load saved model\n",
    "    loader = tf.train.import_meta_graph(load_dir + '.meta')\n",
    "    loader.restore(sess, load_dir)\n",
    "\n",
    "    # Get Tensors from loaded model\n",
    "    input_text, initial_state, final_state, probs = get_tensors(loaded_graph)\n",
    "\n",
    "    # Sentences generation setup\n",
    "    gen_sentences = [prime_word + ':']\n",
    "    prev_state = sess.run(initial_state, {input_text: np.array([[1]])})\n",
    "\n",
    "    # Generate sentences\n",
    "    for n in range(gen_length):\n",
    "        # Dynamic Input\n",
    "        dyn_input = [[vocab_to_int[word] for word in gen_sentences[-seq_length:]]]\n",
    "        dyn_seq_length = len(dyn_input[0])\n",
    "\n",
    "        # Get Prediction\n",
    "        probabilities, prev_state = sess.run(\n",
    "            [probs, final_state],\n",
    "            {input_text: dyn_input, initial_state: prev_state})\n",
    "        \n",
    "        pred_word = pick_word(probabilities[0][dyn_seq_length-1], int_to_vocab)\n",
    "\n",
    "        gen_sentences.append(pred_word)\n",
    "    \n",
    "    # Remove tokens\n",
    "    tv_script = ' '.join(gen_sentences)\n",
    "    for key, token in token_dict.items():\n",
    "        ending = ' ' if key in ['\\n', '(', '\"'] else ''\n",
    "        tv_script = tv_script.replace(' ' + token.lower(), key)\n",
    "    tv_script = tv_script.replace('\\n ', '\\n')\n",
    "    tv_script = tv_script.replace('( ', '(')\n",
    "        \n",
    "    print(tv_script)"
   ]
  },
  {
   "cell_type": "markdown",
   "metadata": {},
   "source": [
    "# The TV Script is Nonsensical\n",
    "It's ok if the TV script doesn't make any sense.  We trained on less than a megabyte of text.  In order to get good results, you'll have to use a smaller vocabulary or get more data.  Luckily there's more data!  As we mentioned in the beggining of this project, this is a subset of [another dataset](https://www.kaggle.com/wcukierski/the-simpsons-by-the-data).  We didn't have you train on all the data, because that would take too long.  However, you are free to train your neural network on all the data.  After you complete the project, of course.\n",
    "# Submitting This Project\n",
    "When submitting this project, make sure to run all the cells before saving the notebook. Save the notebook file as \"dlnd_tv_script_generation.ipynb\" and save it as a HTML file under \"File\" -> \"Download as\". Include the \"helper.py\" and \"problem_unittests.py\" files in your submission."
   ]
  }
 ],
 "metadata": {
  "kernelspec": {
   "display_name": "Python 3",
   "language": "python",
   "name": "python3"
  },
  "language_info": {
   "codemirror_mode": {
    "name": "ipython",
    "version": 3
   },
   "file_extension": ".py",
   "mimetype": "text/x-python",
   "name": "python",
   "nbconvert_exporter": "python",
   "pygments_lexer": "ipython3",
   "version": "3.6.4"
  },
  "varInspector": {
   "cols": {
    "lenName": 16,
    "lenType": 16,
    "lenVar": 40
   },
   "kernels_config": {
    "python": {
     "delete_cmd_postfix": "",
     "delete_cmd_prefix": "del ",
     "library": "var_list.py",
     "varRefreshCmd": "print(var_dic_list())"
    },
    "r": {
     "delete_cmd_postfix": ") ",
     "delete_cmd_prefix": "rm(",
     "library": "var_list.r",
     "varRefreshCmd": "cat(var_dic_list()) "
    }
   },
   "types_to_exclude": [
    "module",
    "function",
    "builtin_function_or_method",
    "instance",
    "_Feature"
   ],
   "window_display": false
  },
  "widgets": {
   "state": {},
   "version": "1.1.2"
  }
 },
 "nbformat": 4,
 "nbformat_minor": 1
}
